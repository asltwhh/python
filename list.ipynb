{
 "cells": [
  {
   "cell_type": "markdown",
   "metadata": {},
   "source": [
    "# list列表\n",
    "- 一组由有序(先后顺序）数据组成的序列\n",
    "    - 数据存在先后顺序\n",
    "    - 数据可以不是一类\n",
    "- list的创建\n",
    "    - 中括号创建，内容用逗号隔开\n",
    "    - 使用list创建"
   ]
  },
  {
   "cell_type": "code",
   "execution_count": 3,
   "metadata": {},
   "outputs": [
    {
     "name": "stdout",
     "output_type": "stream",
     "text": [
      "[1, 2, 3, 4, 5]\n",
      "[1, 2, 3, 'abc', '大拿']\n"
     ]
    }
   ],
   "source": [
    "L1 = [1,2,3,4,5]\n",
    "L2 = [1,2,3,\"abc\",\"大拿\"]\n",
    "\n",
    "print(L1)\n",
    "print(L2)"
   ]
  },
  {
   "cell_type": "code",
   "execution_count": 5,
   "metadata": {},
   "outputs": [
    {
     "name": "stdout",
     "output_type": "stream",
     "text": [
      "[]\n",
      "<class 'list'>\n"
     ]
    }
   ],
   "source": [
    "#创建列表的第二种方式\n",
    "L3 = list()\n",
    "print(L3)\n",
    "print(type(L3)) #说明L3是一个list类型的"
   ]
  },
  {
   "cell_type": "code",
   "execution_count": null,
   "metadata": {},
   "outputs": [],
   "source": [
    "#内置函数\n",
    "- help:帮助函数\n",
    "- type:显示变量的类型\n",
    "- id:显示变量的id,判断两个变量是否为一个变量\n",
    "- print"
   ]
  },
  {
   "cell_type": "code",
   "execution_count": 8,
   "metadata": {},
   "outputs": [
    {
     "name": "stdout",
     "output_type": "stream",
     "text": [
      "['liu dana']\n",
      "<class 'list'>\n",
      "['l', 'i', 'u', ' ', 'd', 'a', 'n', 'a']\n",
      "<class 'list'>\n"
     ]
    }
   ],
   "source": [
    "# list创建的特例演示\n",
    "s = \"liu dana\"\n",
    "#想创建一个仅包含L1一个字符串的列表\n",
    "L1 = [s]\n",
    "print(L1)\n",
    "print(type(L1))\n",
    "\n",
    "L2 = list(s) #此时该字符串被切割了\n",
    "print(L2)\n",
    "print(type(L2))"
   ]
  },
  {
   "cell_type": "markdown",
   "metadata": {},
   "source": [
    "# 关于列表的常见操作\n",
    "- 访问\n",
    "    - 使用index,从0开始\n",
    "- 切片\n",
    "    - 对列表进行任意段的截取\n",
    "    - 截取之后创建一个新列表\n",
    "    - 左包含右不包含\n",
    "    - 切片的下表可以为空 eg:L1[:4] 代表[0:4]； [2:]代表[2:len(L1)] [:]代表[0:len(L1)] ，这样的操作默认从左向右,步长为1，num=1\n",
    "    - 切片可以控制增长的增幅num，隔几个分片 [::num]\n",
    "    - 下标可以超出索引范围，超出后不再考虑多余下标内容，不会报错\n",
    "    - 下标可以为负数，表明切片顺序从右往左\n",
    "    - 数组的最后一个数字的下标为-1"
   ]
  },
  {
   "cell_type": "code",
   "execution_count": 12,
   "metadata": {},
   "outputs": [
    {
     "name": "stdout",
     "output_type": "stream",
     "text": [
      "5456\n"
     ]
    }
   ],
   "source": [
    "L1 = [32,234,5456,657]\n",
    "#打印其中某一个元素，使用index ,当索引超出范围，就会出现indexError\n",
    "print(L1[2])"
   ]
  },
  {
   "cell_type": "code",
   "execution_count": 25,
   "metadata": {},
   "outputs": [
    {
     "name": "stdout",
     "output_type": "stream",
     "text": [
      "[2, 3, 4, 5, 6]\n",
      "1395921376776\n",
      "1395922231688\n",
      "[1, 3, 5, 7, 9]\n",
      "[10, 8, 6, 4, 2]\n",
      "[9, 8, 7]\n",
      "[7, 8, 9]\n"
     ]
    }
   ],
   "source": [
    "#切片操作：左包含右不包含\n",
    "L1 = [1,2,3,4,5,6,7,8,9,10]\n",
    "L2 = L1[1:6]\n",
    "print(L2)\n",
    "print(id(L1))  #两个列表的id不同，表明两个列表指代两个变量\n",
    "print(id(L2))\n",
    "\n",
    "#增幅\n",
    "print(L1[::2])\n",
    "\n",
    "#下标可以为负数\n",
    "print(L1[::-2])\n",
    "\n",
    "print(L1[-2:-5:-1]) #倒序输出\n",
    "print(L1[-4:-1:1])  #正序输出"
   ]
  }
 ],
 "metadata": {
  "kernelspec": {
   "display_name": "Python 3",
   "language": "python",
   "name": "python3"
  },
  "language_info": {
   "codemirror_mode": {
    "name": "ipython",
    "version": 3
   },
   "file_extension": ".py",
   "mimetype": "text/x-python",
   "name": "python",
   "nbconvert_exporter": "python",
   "pygments_lexer": "ipython3",
   "version": "3.7.1"
  }
 },
 "nbformat": 4,
 "nbformat_minor": 2
}
