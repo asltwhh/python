{
 "cells": [
  {
   "cell_type": "markdown",
   "metadata": {},
   "source": [
    "# str\n",
    "-字符串查找类：find,index,islower\n",
    "-find:查找字符串中是否包含一个子串"
   ]
  },
  {
   "cell_type": "code",
   "execution_count": 2,
   "metadata": {},
   "outputs": [
    {
     "data": {
      "text/plain": [
       "-1"
      ]
     },
     "execution_count": 2,
     "metadata": {},
     "output_type": "execute_result"
    }
   ],
   "source": [
    "# find\n",
    "s = \"liu dana love wang xiaojing and zhang xiaojing\"\n",
    "s1 = \"xiaojing\"\n",
    "s.find(s1)   #返回第一次发现这个字符串的位置\n",
    "\n",
    "s.find(\"whh\") #若未找到则返回-1\n"
   ]
  },
  {
   "cell_type": "code",
   "execution_count": 7,
   "metadata": {},
   "outputs": [
    {
     "ename": "ValueError",
     "evalue": "substring not found",
     "output_type": "error",
     "traceback": [
      "\u001b[1;31m---------------------------------------------------------------------------\u001b[0m",
      "\u001b[1;31mValueError\u001b[0m                                Traceback (most recent call last)",
      "\u001b[1;32m<ipython-input-7-84bf8d60560d>\u001b[0m in \u001b[0;36m<module>\u001b[1;34m\u001b[0m\n\u001b[0;32m      1\u001b[0m \u001b[0ms\u001b[0m\u001b[1;33m.\u001b[0m\u001b[0mindex\u001b[0m\u001b[1;33m(\u001b[0m\u001b[0ms1\u001b[0m\u001b[1;33m)\u001b[0m\u001b[1;33m\u001b[0m\u001b[1;33m\u001b[0m\u001b[0m\n\u001b[1;32m----> 2\u001b[1;33m \u001b[0ms\u001b[0m\u001b[1;33m.\u001b[0m\u001b[0mindex\u001b[0m\u001b[1;33m(\u001b[0m\u001b[1;34m\"whh\"\u001b[0m\u001b[1;33m)\u001b[0m\u001b[1;33m\u001b[0m\u001b[1;33m\u001b[0m\u001b[0m\n\u001b[0m",
      "\u001b[1;31mValueError\u001b[0m: substring not found"
     ]
    }
   ],
   "source": [
    "#index\n",
    "s.index(s1) \n",
    "s.index(\"whh\")"
   ]
  },
  {
   "cell_type": "markdown",
   "metadata": {},
   "source": [
    "# 借用help函数了解其他函数的作用\n",
    "# eg: help(str.find)\n",
    "-help(str.find)  #find在未找到子串时返回-1  Return -1 on failure.\n",
    "\n",
    "-help(str.index)  # index在未找到子串时出现错误 Raises ValueError when the substring is not found."
   ]
  },
  {
   "cell_type": "code",
   "execution_count": 11,
   "metadata": {},
   "outputs": [
    {
     "data": {
      "text/plain": [
       "38"
      ]
     },
     "execution_count": 11,
     "metadata": {},
     "output_type": "execute_result"
    }
   ],
   "source": [
    "#使用时可以使用区间,从s的某一位置开始查找子串\n",
    "s.find(s1,25)"
   ]
  },
  {
   "cell_type": "code",
   "execution_count": 15,
   "metadata": {},
   "outputs": [
    {
     "ename": "AttributeError",
     "evalue": "'str' object has no attribute 'lfind'",
     "output_type": "error",
     "traceback": [
      "\u001b[1;31m---------------------------------------------------------------------------\u001b[0m",
      "\u001b[1;31mAttributeError\u001b[0m                            Traceback (most recent call last)",
      "\u001b[1;32m<ipython-input-15-e09941ecce0e>\u001b[0m in \u001b[0;36m<module>\u001b[1;34m\u001b[0m\n\u001b[0;32m      1\u001b[0m \u001b[1;31m#rfind,lfind 从左边/右边查找子串\u001b[0m\u001b[1;33m\u001b[0m\u001b[1;33m\u001b[0m\u001b[1;33m\u001b[0m\u001b[0m\n\u001b[1;32m----> 2\u001b[1;33m \u001b[0ms\u001b[0m\u001b[1;33m.\u001b[0m\u001b[0mlfind\u001b[0m\u001b[1;33m(\u001b[0m\u001b[0ms1\u001b[0m\u001b[1;33m)\u001b[0m\u001b[1;33m\u001b[0m\u001b[1;33m\u001b[0m\u001b[0m\n\u001b[0m",
      "\u001b[1;31mAttributeError\u001b[0m: 'str' object has no attribute 'lfind'"
     ]
    }
   ],
   "source": [
    "#rfind,lfind 从左边/右边查找子串   lfind????????\n",
    "s.lfind(s1)"
   ]
  },
  {
   "cell_type": "markdown",
   "metadata": {},
   "source": [
    "# 判断类函数\n",
    "-一般以is开头，例如islower 判断是否为小写\n",
    "-isalpha 判断是否为字母，需要注意：\n",
    "    - 此函数默认字符串至少包含一个字符\n",
    "    - 汉子也是alpha,故不可作为区分汉子和英语的标识，区分中英文需要使用Unicode码\n",
    "\n",
    "- isdigit,isnumeric,isdecimal 判断是否为数字，该字符串内不能包含空格或者其他字符     \n",
    "\n",
    "_避免使用，可以采用正则表达式的方式代替\n",
    "\n",
    "        digit:\n",
    "        True: Unicode数字，byte数字，全角数字，罗马数字\n",
    "        Flase:汉字数字\n",
    "        Error:无\n",
    "\n",
    "        isdecimal()\n",
    "        True: Unicode数字，全角数字\n",
    "        Flase:罗马数字,汉字数字\n",
    "        Error:无\n",
    "        \n",
    "        isnumeric()\n",
    "        True: Unicode数字，全角数字，罗马数字,汉字数字\n",
    "        Flase:无\n",
    "        Error:byte数字\n",
    "\n",
    "-islower()  判断字符串是否为小写   不会受到空格的影响\n",
    "        "
   ]
  },
  {
   "cell_type": "code",
   "execution_count": 22,
   "metadata": {},
   "outputs": [
    {
     "name": "stdout",
     "output_type": "stream",
     "text": [
      "False\n",
      "False\n",
      "False\n",
      "False\n",
      "False\n",
      "True\n"
     ]
    }
   ],
   "source": [
    "s1 = \"我们对着灯发誓，王大拿爱王晓静\"\n",
    "s2 = \"benboba is a friend of baberben\"\n",
    "s3 = \"TulingXueYuan.com is the 1.st\"\n",
    "\n",
    "print(s1.isalpha())\n",
    "print(s2.isalpha())\n",
    "print(s3.isalpha())\n",
    "\n",
    "\n",
    "chin_num = \"一二三四\"   #由于输入法的问题，输入罗马数字可能得不到应得的结果\n",
    "print(chin_num.isdigit())\n",
    "print(chin_num.isdecimal())\n",
    "print(chin_num.isnumeric())"
   ]
  },
  {
   "cell_type": "markdown",
   "metadata": {},
   "source": [
    "# 内容判断类函数\n",
    "-startswith/endswith:是否以xxx开头或者结尾\n",
    "\n",
    "    -常用三个参数：suffix(被检查的字符串）,start,end\n",
    "     \n",
    "-islower,isupper 判断是大写还是小写  不会受到空格的影响 汉字字符串没有大小写，直接false\n"
   ]
  },
  {
   "cell_type": "code",
   "execution_count": 34,
   "metadata": {},
   "outputs": [
    {
     "name": "stdout",
     "output_type": "stream",
     "text": [
      "True\n"
     ]
    }
   ],
   "source": [
    "s = \"liu dana really loves wang xiaojing\"\n",
    "dana = \"liu dana\"\n",
    "print(s.startswith(dana))"
   ]
  },
  {
   "cell_type": "markdown",
   "metadata": {},
   "source": [
    "# 操作类函数\n",
    "- format:格式化用的\n",
    "- strip :删除字符串两边的空格 \n",
    "- lstrip 和rstrip：表示去掉字符串左边和右边的空格\n",
    "- join:把可迭代的字符串拼接在一起"
   ]
  },
  {
   "cell_type": "code",
   "execution_count": 63,
   "metadata": {},
   "outputs": [
    {
     "name": "stdout",
     "output_type": "stream",
     "text": [
      "DDDDDDDDDDana loves wang xiaojing\n",
      "\n",
      "DDDDDDDDDDana loves wang xiaojing-----------------------\n",
      "ana loves wang xiaojing \n",
      "\n",
      "ana loves wang xiaojing ------------"
     ]
    }
   ],
   "source": [
    "#strip\n",
    "c = \"DDDDDDDDDDana loves wang xiaojing \"\n",
    "#不能看出是否成功剔除两边空格,添加end保证肉眼可以观测到结果\n",
    "print(c.strip())\n",
    "print()\n",
    "print(c.strip(),end=\"-------------\")\n",
    "print(\"----------\")\n",
    "\n",
    "print(c.strip(\"D\"))\n",
    "print()\n",
    "print(c.strip(\"D\"),end=\"------------\")"
   ]
  },
  {
   "cell_type": "code",
   "execution_count": 65,
   "metadata": {},
   "outputs": [
    {
     "name": "stdout",
     "output_type": "stream",
     "text": [
      "liu dana$love$wang$xiaojing\n",
      "liu dana-love-wang-xiaojing\n",
      "liu dana love wang xiaojing\n"
     ]
    }
   ],
   "source": [
    "# join,将s1,s2,s3作为分隔符，把ss的内容拼接起来\n",
    "s1 = \"$\"\n",
    "s2 = \"-\"\n",
    "s3 = \" \"\n",
    "ss = [\"liu dana\",\"love\",\"wang\",\"xiaojing\"]\n",
    "\n",
    "print(s1.join(ss))\n",
    "print(s2.join(ss))\n",
    "print(s3.join(ss))"
   ]
  }
 ],
 "metadata": {
  "kernelspec": {
   "display_name": "Python 3",
   "language": "python",
   "name": "python3"
  },
  "language_info": {
   "codemirror_mode": {
    "name": "ipython",
    "version": 3
   },
   "file_extension": ".py",
   "mimetype": "text/x-python",
   "name": "python",
   "nbconvert_exporter": "python",
   "pygments_lexer": "ipython3",
   "version": "3.7.1"
  }
 },
 "nbformat": 4,
 "nbformat_minor": 2
}
