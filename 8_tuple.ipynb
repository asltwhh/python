{
 "cells": [
  {
   "cell_type": "markdown",
   "metadata": {},
   "source": [
    "# 元组\n",
    "- 元组可以看成是一个不可更改的list\n",
    "## 元组的创建"
   ]
  },
  {
   "cell_type": "code",
   "execution_count": 13,
   "metadata": {},
   "outputs": [
    {
     "name": "stdout",
     "output_type": "stream",
     "text": [
      "<class 'tuple'>\n",
      "<class 'int'>\n",
      "1\n",
      "<class 'tuple'>\n",
      "(1,)\n",
      "<class 'tuple'>\n",
      "(1,)\n",
      "<class 'tuple'>\n",
      "(1, 2, 3, 4)\n",
      "<class 'tuple'>\n",
      "(1, 2, 3, 4)\n",
      "<class 'tuple'>\n",
      "(1, 2, 3, 4, 5)\n"
     ]
    }
   ],
   "source": [
    "# 创建元组\n",
    "t = ()\n",
    "print(type(t))\n",
    "\n",
    "# 创建一个只包含一个值的元组\n",
    "t = (1)\n",
    "print(type(t)) # 此时t的类型被认为是int\n",
    "print(t)\n",
    "\n",
    "t = (1,)\n",
    "print(type(t))\n",
    "print(t)\n",
    "\n",
    "t = 1, #括号可要可不要\n",
    "print(type(t))\n",
    "print(t)\n",
    "\n",
    "#创建多个值\n",
    "t = (1,2,3,4)\n",
    "print(type(t))\n",
    "print(t)\n",
    "\n",
    "t = 1,2,3,4\n",
    "print(type(t))\n",
    "print(t)\n",
    "\n",
    "#使用其他结构创建tuple\n",
    "l = [1,2,3,4,5]\n",
    "t = tuple(l)\n",
    "print(type(t))\n",
    "print(t)"
   ]
  },
  {
   "cell_type": "markdown",
   "metadata": {},
   "source": [
    "# 元组的特性\n",
    "- 有序\n",
    "- 元组数据值可以访问，不可以修改(内容） 例如t1[1] = 12 会报错\n",
    "- 元组数据可以是任意类型\n",
    "- 总之，list所有特性，除了可修改外，元组都具有，比如分片，索引，序列相加，相乘，成员资格等，一模一样\n",
    "- 元组遍历：for循环\n",
    "- 双层元组的遍历 for k,v,...(个数针对内含元组中元素的个数而定，一般要求内含元组包含相同的元素个数） in tuple"
   ]
  },
  {
   "cell_type": "code",
   "execution_count": 17,
   "metadata": {},
   "outputs": [
    {
     "name": "stdout",
     "output_type": "stream",
     "text": [
      "2\n",
      "2123552310520\n",
      "2123552674536\n",
      "(1, 2, 3, 4, 5, 6)\n"
     ]
    }
   ],
   "source": [
    "t1 = (1,2,3,4)\n",
    "print(t1[1])\n",
    "#t1[1] = 12\n",
    "t2 = (5,6)\n",
    "print(id(t1))\n",
    "t1 = t1+t2 #并非是直接修改t1的值，而是产生了一个新的tuple地址存放t1+t2的值\n",
    "print(id(t1))\n",
    "print(t1)"
   ]
  },
  {
   "cell_type": "markdown",
   "metadata": {},
   "source": [
    "# 关于元组的函数(与list用法同）\n",
    "- len\n",
    "- max\n",
    "- min\n",
    "- count:返回元素的个数\n",
    "- index：返回第一个所求元素的位置"
   ]
  },
  {
   "cell_type": "markdown",
   "metadata": {},
   "source": [
    "# 元组变量交换法"
   ]
  },
  {
   "cell_type": "code",
   "execution_count": 19,
   "metadata": {},
   "outputs": [
    {
     "name": "stdout",
     "output_type": "stream",
     "text": [
      "1\n",
      "3\n",
      "3\n",
      "1\n"
     ]
    }
   ],
   "source": [
    "# 元组变量交换\n",
    "a = 1\n",
    "b = 3\n",
    "print(a)\n",
    "print(b)\n",
    "\n",
    "a,b = b,a #相当于c = a,a = b.b = c\n",
    "print(a)\n",
    "print(b)"
   ]
  }
 ],
 "metadata": {
  "kernelspec": {
   "display_name": "Python 3",
   "language": "python",
   "name": "python3"
  },
  "language_info": {
   "codemirror_mode": {
    "name": "ipython",
    "version": 3
   },
   "file_extension": ".py",
   "mimetype": "text/x-python",
   "name": "python",
   "nbconvert_exporter": "python",
   "pygments_lexer": "ipython3",
   "version": "3.7.1"
  }
 },
 "nbformat": 4,
 "nbformat_minor": 2
}
