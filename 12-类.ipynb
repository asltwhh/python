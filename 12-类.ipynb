{
 "cells": [
  {
   "cell_type": "markdown",
   "metadata": {},
   "source": [
    "# 1 类的基本实现\n",
    "- 类的命名\n",
    "    - 遵守变量命名的规范\n",
    "    - 大驼峰（由一个单词或者几个单词组成，首字母大写，单词和单词之间直接相连）\n",
    "    - 尽量避免跟系统命名相似的命名\n",
    "- 如何声明一个类\n",
    "    - 必须使用class关键字\n",
    "    - 类包含属性和方法，其他不允许出现\n",
    "    - 成员属性定义可以直接使用变量赋值，如果没有值，可以使用None"
   ]
  },
  {
   "cell_type": "code",
   "execution_count": 5,
   "metadata": {},
   "outputs": [
    {
     "name": "stdout",
     "output_type": "stream",
     "text": [
      "None\n",
      "8\n",
      "I 在做作业\n"
     ]
    }
   ],
   "source": [
    "# 定义一个学生类，用来形容学生\n",
    "class Student():\n",
    "    # 一个空类，pass代表直接跳过\n",
    "    # pass必须有\n",
    "    pass\n",
    "mingyue = Student()\n",
    "\n",
    "# 定义一个学习python的学生类\n",
    "class PythonStudent():\n",
    "    name = None\n",
    "    age = 8\n",
    "    course = \"Python\"\n",
    "    \n",
    "    # 需要注意\n",
    "    # 1. def dohomework\n",
    "    def DoHomework(self):\n",
    "        print(\"I 在做作业\")\n",
    "        # 在函数末尾使用return\n",
    "        return None\n",
    "# 实例化一个叫yueyue的学生，是一个具体的人\n",
    "yueyue = PythonStudent()\n",
    "# 注意成员函数的调用没有传入参数\n",
    "print(yueyue.name)\n",
    "print(yueyue.age)\n",
    "yueyue.DoHomework()"
   ]
  },
  {
   "cell_type": "markdown",
   "metadata": {},
   "source": [
    "# 2 anaconda基本使用\n",
    "- 一个虚拟的环境管理器\n",
    "- 还是一个安装包管理器\n",
    "- conda list:显示anaconda安装的包\n",
    "- conda env list:显示anaconda的虚拟环境列表\n",
    "- conda create -n xxx python=3.6:创建python版本为3.6的虚拟环境,名称为xxx"
   ]
  },
  {
   "cell_type": "markdown",
   "metadata": {},
   "source": [
    "- 实例化类\n",
    "    - 变量 = 类名（） #实例化了一个对象\n",
    "- 访问对象成员\n",
    "    - 使用点操作符\n",
    "        - obj.成员属性名称\n",
    "        - obj.成员方法\n",
    "- 可以通过默认内置变量检查类和对象的所有成员\n",
    "    - obj.__dict__\n",
    "- 查看类所有的成员\n",
    "    - class_name.__dict__   #dict前后有两个下划线"
   ]
  },
  {
   "cell_type": "code",
   "execution_count": 11,
   "metadata": {},
   "outputs": [
    {
     "data": {
      "text/plain": [
       "{}"
      ]
     },
     "execution_count": 11,
     "metadata": {},
     "output_type": "execute_result"
    }
   ],
   "source": [
    "class Student():\n",
    "    name = \"dana\"\n",
    "    age = 18\n",
    "    \n",
    "Student.__dict__\n",
    "\n",
    "#实例化，产生这一类人中的一个个体\n",
    "yueyue = Student()\n",
    "yueyue.__dict__"
   ]
  },
  {
   "cell_type": "markdown",
   "metadata": {},
   "source": [
    "# 3 类和对象的成员分析\n",
    "- 类和对象都可以存储成员，成员可以归类所有，也可以归对象所有\n",
    "- 类存储成员时使用的是一个和类相关联的对象\n",
    "- 独享存储成员存储在当前对象\n",
    "- 创建了成员之后，类中的成员不会直接放入该对象中，该对象是一个空对象，但是该对象可以借用类的成员\n",
    "- 在对象中修改类中成员的值，对应的成员会直接保存在对象中，而不会修改类成员"
   ]
  },
  {
   "cell_type": "code",
   "execution_count": 16,
   "metadata": {},
   "outputs": [
    {
     "name": "stdout",
     "output_type": "stream",
     "text": [
      "dana\n",
      "18\n",
      "**************************************************\n",
      "2587479947224\n",
      "140730818344304\n",
      "**************************************************\n",
      "dana\n",
      "18\n",
      "2587479947224\n",
      "140730818344304\n",
      "**************************************************\n",
      "####################################################################################################\n",
      "dana\n",
      "18\n",
      "**************************************************\n",
      "2587479947224\n",
      "140730818344304\n",
      "**************************************************\n",
      "{}\n",
      "{'name': 'huanhuan', 'age': 22}\n",
      "huanhuan\n",
      "22\n",
      "2587478601776\n",
      "140730818344432\n",
      "**************************************************\n"
     ]
    }
   ],
   "source": [
    "class A():\n",
    "    name = \"dana\"\n",
    "    age = 18\n",
    "    def say(self):\n",
    "        self.name = \"aaaa\"\n",
    "        self.age = 200\n",
    "#此时，A表示类实例\n",
    "print(A.name)\n",
    "print(A.age)\n",
    "print(\"*\" * 50)\n",
    "\n",
    "# id可以鉴别一个变量和另外一个变量是不是同一个变量\n",
    "print(id(A.name))\n",
    "print(id(A.age))\n",
    "print(\"*\" * 50)\n",
    "\n",
    "# 定义了一个对象\n",
    "a = A()\n",
    "print(a.name)\n",
    "print(a.age) \n",
    "print(id(a.name))           #此时两者指代的是同一个地址的name和age\n",
    "print(id(a.age))\n",
    "print(\"*\" * 50)\n",
    "\n",
    "print(\"#\"*100)\n",
    "# 作对比\n",
    "#此时，A表示类实例\n",
    "print(A.name)\n",
    "print(A.age)\n",
    "print(\"*\" * 50)\n",
    "\n",
    "# id可以鉴别一个变量和另外一个变量是不是同一个变量\n",
    "print(id(A.name))    \n",
    "print(id(A.age))\n",
    "print(\"*\" * 50)\n",
    "\n",
    "# 定义了一个对象\n",
    "a = A()\n",
    "#查看a 的所有属性\n",
    "print(a.__dict__)    #创建了成员之后，类中的成员不会直接放入该对象中，该对象是一个空对象，但是该对象可以借用类的成员\n",
    "a.name = \"huanhuan\"   #改变了这两个变量的值后，其地址也发生了变化\n",
    "a.age = 22\n",
    "print(a.__dict__)\n",
    "print(a.name)\n",
    "print(a.age)\n",
    "print(id(a.name))   \n",
    "print(id(a.age))\n",
    "print(\"*\" * 50)"
   ]
  },
  {
   "cell_type": "markdown",
   "metadata": {},
   "source": [
    "# 4 关于self\n",
    "- self 在对象的方法中表示当前对象本身，如果通过对象调用一个方法，那么该对象会自动传入到当前方法的第一个参数中\n",
    "- self并不是关键字，只是一个用于接受对象的普通参数，理论上可以使用任何一个普通变量名代替\n",
    "- 方法中有self形参的方法称为非绑定的类的方法，可以通过对象访问，没有self的是绑定类的方法，只能通过类访问\n",
    "- 不能使用类实例直接调用非绑定的类的方法（有self形参的方法）,如A.say()，因为此时不会默认将self作为参数传入,需要手动输入参数，例如A.say(a),a是一个A类的对象,也可以直接将A作为类对象传入\n",
    "- 使用类访问绑定类的方法时，如果类方法中需要访问当前类的成员，可以通过 __class__.成员名 来访问"
   ]
  },
  {
   "cell_type": "code",
   "execution_count": 23,
   "metadata": {},
   "outputs": [
    {
     "name": "stdout",
     "output_type": "stream",
     "text": [
      "My name is aaaa\n",
      "My age is 200\n",
      "My name is aaaa\n",
      "My age is 200\n"
     ]
    }
   ],
   "source": [
    "class Student():\n",
    "    name = \"dana\"\n",
    "    age = 18\n",
    "    #注意say的写法，参数有一个self\n",
    "    def say(self):\n",
    "        self.name = \"aaaa\"\n",
    "        self.age = 200\n",
    "        print(\"My name is {0}\".format(self.name))\n",
    "        print(\"My age is {0}\".format(self.age))\n",
    "    def sayAgain(s):   #说明self本身就不是一个关键字\n",
    "        print(\"My name is {0}\".format(s.name))\n",
    "        print(\"My age is {0}\".format(s.age))\n",
    "yueyue = Student()\n",
    "yueyue.say()    #调用时会自动将self作为第一个参数传入\n",
    "yueyue.sayAgain() "
   ]
  },
  {
   "cell_type": "code",
   "execution_count": 29,
   "metadata": {},
   "outputs": [
    {
     "name": "stdout",
     "output_type": "stream",
     "text": [
      "My name is aaaa\n",
      "My age is 200\n",
      "dana\n",
      "18\n",
      "hello\n",
      "dana\n",
      "18\n"
     ]
    }
   ],
   "source": [
    "class Teacher():\n",
    "    name = \"dana\"\n",
    "    age = 18\n",
    "    #注意say的写法，参数有一个self\n",
    "    def say(self):\n",
    "        self.name = \"aaaa\"\n",
    "        self.age = 200\n",
    "        print(\"My name is {0}\".format(self.name))\n",
    "        print(\"My age is {0}\".format(self.age))\n",
    "        # 调用类的成员变量需要用__class__\n",
    "        print(__class__.name)\n",
    "        print(__class__.age)\n",
    "    def sayAgain():   #说明self本身就不是一个关键字\n",
    "        print(\"hello\")\n",
    "        print(__class__.name)\n",
    "        print(__class__.age)\n",
    "t = Teacher()\n",
    "t.say()    #调用时会自动将self作为第一个参数传入\n",
    "Teacher.sayAgain()  #不包含self形参的成员函数只能通过类名调用\n",
    "#t.sayAgain()        #通过对象调用会直接报错"
   ]
  },
  {
   "cell_type": "code",
   "execution_count": 39,
   "metadata": {},
   "outputs": [
    {
     "name": "stdout",
     "output_type": "stream",
     "text": [
      "aaaa\n",
      "200\n",
      "aaaa\n",
      "200\n",
      "huanhuan\n",
      "18\n",
      "bbbb\n",
      "90\n"
     ]
    }
   ],
   "source": [
    "# 关于self的案例\n",
    "class A():\n",
    "        name = \"huanhuan\"\n",
    "        age = 18\n",
    "        #构造函数\n",
    "        def __init__(self):\n",
    "            self.name = \"aaaa\"\n",
    "            self.age = 200\n",
    "        def say(self):\n",
    "            print(self.name)\n",
    "            print(self.age)\n",
    "class B():\n",
    "        name = \"bbbb\"\n",
    "        age = 90\n",
    "a = A()\n",
    "a.say()\n",
    "\n",
    "# A.say()  不能使用类实例调用非绑定的类的方法，此时不会自动将self作为第一参数传入，导致出现参数数量不符合的错误\n",
    "A.say(a)   # 需要手动传入对象\n",
    "A.say(A)\n",
    "A.say(B)  # 因为类B中也具备name 和age 成员变量，所以不会报错\n",
    "\n",
    "#以上代码，利用了鸭子模型"
   ]
  },
  {
   "cell_type": "markdown",
   "metadata": {},
   "source": [
    "# 5 面向对象的三大特性\n",
    "- 封装\n",
    "- 继承\n",
    "- 多态\n",
    "## 5.1 封装\n",
    "- 封装就是对对象的成员进行访问限制\n",
    "- 封装的三个级别：\n",
    "    - 公开：public\n",
    "    - 受保护的：protected\n",
    "    - 私人的：private\n",
    "    - public,protected,private不是关键字\n",
    "- 判别对象的位置：\n",
    "    - 对象内部\n",
    "    - 对象外部\n",
    "    - 子类中\n",
    "- 私有：private\n",
    "    - 私有成员是最高级别的封装，只能在当前类或者对象中访问\n",
    "    - 在成员前面添加两个下划线即可：\n",
    "            class Person():\n",
    "                #name是共有成员\n",
    "                name = \"liuying\"\n",
    "                #__age 就是私有成员\n",
    "                __age = 18\n",
    "    - python的私有不是真私有，是一种称为name mangling技术的改名策略，可以使用对象._classname_attributename访问\n",
    "- 受保护的封装 protected\n",
    "    - 受保护的封装是将成员对象进行一定级别的封装，然后在类或者子类中都可以进行访问，但是在外部不可以访问\n",
    "    - 封装方法：在成员名称前添加一个下划线即可\n",
    "- 公开的 public\n",
    "    - 任何地方均可以访问"
   ]
  },
  {
   "cell_type": "code",
   "execution_count": 52,
   "metadata": {},
   "outputs": [
    {
     "name": "stdout",
     "output_type": "stream",
     "text": [
      "18\n",
      "liuying\n",
      "{'__module__': '__main__', 'name': 'liuying', '_Person__age': 18, '__dict__': <attribute '__dict__' of 'Person' objects>, '__weakref__': <attribute '__weakref__' of 'Person' objects>, '__doc__': None}\n",
      "18\n"
     ]
    }
   ],
   "source": [
    "#私有变量的封装\n",
    "class Person():\n",
    "    #name是共有成员\n",
    "    name = \"liuying\"\n",
    "    #__age 就是私有成员\n",
    "    __age = 18\n",
    "    print(p.__age)  #在类内部可以访问\n",
    "p = Person()\n",
    "print(p.name)\n",
    "#print(p.__age) #在类外部不可以使用对象.私有变量名访问\n",
    "\n",
    "# name mangling技术\n",
    "print(Person.__dict__)\n",
    "print(p._Person__age)"
   ]
  },
  {
   "cell_type": "markdown",
   "metadata": {},
   "source": [
    "## 5.2 继承\n",
    "- 继承就是一个类获得另外一个类的成员属性和方法\n",
    "- 作用：减少代码，增加代码的复用功能，同时可以设置类与类直接的关系\n",
    "- 继承与被继承的概念：\n",
    "    - 父类：被继承的类，也叫基类、超类\n",
    "    - 子类：继承别的类的类，也叫派生类\n",
    "    - 继承与被继承的关系：is-a\n",
    "- 继承的语法：class 子类name(父类name):\n",
    "- 继承的特征：\n",
    "    - 所有的类都继承自object,即所有的类都是object的子类\n",
    "    - 子类一旦继承了父类，则子类就可以试用父类中除了私有成员外的所有成员\n",
    "    - 子类继承父类后并没有将父类成员完全赋值到子类中,而是通过引用关系访问\n",
    "    - 子类可以定义它独有的成员属性和方法\n",
    "    - 子类中定义的成员和父类成员如果相同，则优先使用子类成员本身\n",
    "    - 子类如果想扩充父类方法，可以在定义新方法时访问父类成员进行代码重用，可以使用 父类名.父类成员 的格式调用父类成员，也可以使用 super().父类成员 的格式\n",
    "- 继承变量函数的查找顺序\n",
    "    - 任何情况优先查找自己\n",
    "    - 没有则查找父类\n",
    "    - 构造函数如果本类中没有定义，则自动查找调用父类的构造方法\n",
    "    - 如果本类有定义，则不再继续向上查找"
   ]
  },
  {
   "cell_type": "code",
   "execution_count": 6,
   "metadata": {},
   "outputs": [
    {
     "name": "stdout",
     "output_type": "stream",
     "text": [
      "{'__module__': '__main__', 'name': 'Noname', 'age': 0, '_petname': 'sec', '_Person__score': 0, 'sleep': <function Person.sleep at 0x000002B13D9A6158>, '__dict__': <attribute '__dict__' of 'Person' objects>, '__weakref__': <attribute '__weakref__' of 'Person' objects>, '__doc__': None}\n",
      "{'__module__': '__main__', 'test': <function Teacher.test at 0x000002B13D9A6EA0>, 'sleep': <function Teacher.sleep at 0x000002B13D9A6620>, '__doc__': None}\n",
      "Noname\n",
      "sec\n",
      "Noname\n",
      "Sleeping 10 hours\n",
      "None\n"
     ]
    }
   ],
   "source": [
    "#继承\n",
    "# python中，任何类都存在一个共同的父类：object\n",
    "class Person():\n",
    "    name = 'Noname'\n",
    "    age = 0\n",
    "    _petname = 'sec'   #小名，受保护的，家人（子类）可以知道，不想让外人知道\n",
    "    __score = 0        #考试成绩是秘密，只想让自己知道，表示private\n",
    "    def sleep(self):   \n",
    "        print(\"Sleeping... ...\")\n",
    "        \n",
    "class Teacher(Person):\n",
    "    def test(self):                  #子类可以定义它独有的成员属性和方法\n",
    "        pass\n",
    "    def sleep(self):\n",
    "        print(\"Sleeping 10 hours\")   #子类中定义的成员和父类成员如果相同，则优先使用子类成员\n",
    "\n",
    "print(Person.__dict__)\n",
    "print(Teacher.__dict__)             #子类继承父类后并没有将父类成员完全赋值到子类中,而是通过引用关系访问\n",
    "\n",
    "t = Teacher()\n",
    "print(t.name) \n",
    "\n",
    "# 受保护的子类对象可以访问\n",
    "print(t._petname)\n",
    "#print(t._score)      私有的子类对象不可以访问\n",
    "\n",
    "print(Teacher.name)\n",
    "print(t.sleep())      #默认返回None\n",
    "\n",
    "# 私有的访问问题\n",
    "# 公开访问私有变量直接报错\n",
    "# print(t.__score)  "
   ]
  },
  {
   "cell_type": "code",
   "execution_count": 14,
   "metadata": {},
   "outputs": [
    {
     "name": "stdout",
     "output_type": "stream",
     "text": [
      "make some money\n",
      "make some money\n",
      "attention,take examination\n"
     ]
    }
   ],
   "source": [
    "# 子类扩充父类的案例\n",
    "# 人有工作的函数，老师也有工作的函数，但老师的工作需要讲课\n",
    "class Person():\n",
    "    name = \"Noname\"\n",
    "    age = 18\n",
    "    __score = 0\n",
    "    _petname = \"sec\"\n",
    "    def sleep(self):   \n",
    "        print(\"Sleeping... ...\")\n",
    "    def work(self):\n",
    "        print(\"make some money\")\n",
    "        \n",
    "class Teacher(Person):\n",
    "    teacher_id = \"9527\"\n",
    "    name = \"DaNa\"\n",
    "    def make_test(self):                  #子类可以定义它独有的成员属性和方法\n",
    "        print(\"attention,take examination\")\n",
    "    def work(self):\n",
    "        \n",
    "        # 扩充父类的功能只需要调用父类相应的函数\n",
    "        ##方式1\n",
    "        Person.work(self)\n",
    "        ## 方式2\n",
    "        super().work()\n",
    "        \n",
    "        self.make_test()\n",
    "t = Teacher()\n",
    "t.work()"
   ]
  },
  {
   "cell_type": "markdown",
   "metadata": {},
   "source": [
    "- 构造函数\n",
    "    - 是一类特殊的函数，在类进行实例化之前调用\n",
    "    - 如果在子类中定义了构造函数，则实例化时优先使用自身的构造函数，不继续查找父类构造函数\n",
    "    - 反之，则自动向上查找父类的构造函数\n",
    "    - 如果子类没有定义，而父类的构造函数带参数，则构造对象时应该按照父类的构造函数的参数形式构造\n",
    "    - 扩展父类构造函数的功能：\n",
    "        - 首先调用父类的构造函数：两种方法\n",
    "            - 直接使用父类名调用 ：A.__init__(name)\n",
    "            - 使用super调用 :super(self,name).__init__(name)\n",
    "        - 其次再增加自己的功能"
   ]
  },
  {
   "cell_type": "code",
   "execution_count": 15,
   "metadata": {},
   "outputs": [
    {
     "name": "stdout",
     "output_type": "stream",
     "text": [
      "I am init in dog\n"
     ]
    }
   ],
   "source": [
    "# 构造函数的概念\n",
    "class Dog():\n",
    "    def __init__(self):\n",
    "        # __init__就是构造函数\n",
    "        # 每次实例化时，第一个被调用\n",
    "        # 主要工作就是初始化，所以名为__init__\n",
    "        print(\"I am init in dog\")\n",
    "# 实例化的时候括号内的参数需要和构造函数内的参数匹配 \n",
    "kaka = Dog()"
   ]
  },
  {
   "cell_type": "code",
   "execution_count": 16,
   "metadata": {},
   "outputs": [
    {
     "name": "stdout",
     "output_type": "stream",
     "text": [
      "I am init in dog\n"
     ]
    }
   ],
   "source": [
    "# 继承中的构造函数1\n",
    "class Animal():\n",
    "    pass\n",
    "\n",
    "class PaxingAni(Animal):\n",
    "    pass\n",
    "\n",
    "class Dog(PaxingAni):\n",
    "    def __init__(self):\n",
    "        # __init__就是构造函数\n",
    "        # 每次实例化时，第一个被调用\n",
    "        # 主要工作就是初始化，所以名为__init__\n",
    "        print(\"I am init in dog\")\n",
    "# 实例化的时候自动调用了Dog的构造函数       \n",
    "kaka = Dog()   #自动将self作为参数引入"
   ]
  },
  {
   "cell_type": "code",
   "execution_count": 78,
   "metadata": {},
   "outputs": [
    {
     "name": "stdout",
     "output_type": "stream",
     "text": [
      "I am init in PaxingAni............\n"
     ]
    }
   ],
   "source": [
    "# 继承中的构造函数2\n",
    "class Animal():\n",
    "    def __init__(self):\n",
    "        print(\"I am init in Animal\")\n",
    "\n",
    "class PaxingAni(Animal):\n",
    "    def __init__(self):\n",
    "        print(\"I am init in PaxingAni............\")\n",
    "\n",
    "class Dog(PaxingAni):\n",
    "#     def __init__(self):\n",
    "#         # __init__就是构造函数\n",
    "#         # 每次实例化时，第一个被调用\n",
    "#         # 主要工作就是初始化，所以名为__init__\n",
    "#         print(\"I am init in dog\")\n",
    "    pass\n",
    "# 实例化的时候自动调用了PaxingAni的构造函数 ,因为此时在子类不存在构造函数\n",
    "kaka = Dog()   #自动将self作为参数引入\n",
    "# 此时由于上一个父类中定义了构造函数，所以不需要再查找Animal类"
   ]
  },
  {
   "cell_type": "code",
   "execution_count": 58,
   "metadata": {},
   "outputs": [
    {
     "name": "stdout",
     "output_type": "stream",
     "text": [
      "I am init in dog\n",
      "I am init in dog\n",
      "Paxing dongwu kitty\n",
      "Paxing dongwu kitty\n"
     ]
    }
   ],
   "source": [
    "# 继承中的构造函数3\n",
    "class Animal():\n",
    "    def __init__(self):\n",
    "        print(\"I am init in Animal\")\n",
    "\n",
    "class PaxingAni(Animal):\n",
    "    def __init__(self,name):\n",
    "        print(\"Paxing dongwu {0}\".format(name))\n",
    "\n",
    "class Dog(PaxingAni):\n",
    "    def __init__(self):\n",
    "        # __init__就是构造函数\n",
    "        # 每次实例化时，第一个被调用\n",
    "        # 主要工作就是初始化，所以名为__init__\n",
    "        print(\"I am init in dog\")\n",
    "    pass\n",
    "# 实例化的时候自动调用了PaxingAni的构造函数 ,因为此时在子类不存在构造函数\n",
    "kaka = Dog()   #自动将self作为参数引入\n",
    "\n",
    "class Cat(PaxingAni):\n",
    "    pass# 继承中的构造函数3\n",
    "class Animal():\n",
    "    def __init__(self):\n",
    "        print(\"I am init in Animal\")\n",
    "\n",
    "class PaxingAni(Animal):\n",
    "    def __init__(self,name):\n",
    "        print(\"Paxing dongwu {0}\".format(name))\n",
    "\n",
    "class Dog(PaxingAni):\n",
    "    def __init__(self):\n",
    "        # __init__就是构造函数\n",
    "        # 每次实例化时，第一个被调用\n",
    "        # 主要工作就是初始化，所以名为__init__\n",
    "        print(\"I am init in dog\")\n",
    "    pass\n",
    "# 实例化的时候自动调用了PaxingAni的构造函数 ,因为此时在子类不存在构造函数\n",
    "kaka = Dog()   #自动将self作为参数引入\n",
    "\n",
    "class Cat(PaxingAni):\n",
    "    pass\n",
    "c = Cat(\"kitty\")   # self不需要手动给出\n",
    "c = Cat(\"kitty\")   # self不需要手动给出"
   ]
  },
  {
   "cell_type": "code",
   "execution_count": 35,
   "metadata": {},
   "outputs": [
    {
     "name": "stdout",
     "output_type": "stream",
     "text": [
      "I am init in Animal\n",
      "I am init in Animal\n"
     ]
    }
   ],
   "source": [
    "# 继承中的构造函数3\n",
    "class Animal():\n",
    "    def __init__(self):\n",
    "        print(\"I am init in Animal\")\n",
    "\n",
    "class PaxingAni(Animal):\n",
    "    pass\n",
    "\n",
    "class Dog(PaxingAni):\n",
    "    pass\n",
    "# 实例化的时候自动调用了PaxingAni的构造函数 ,因为此时在子类不存在构造函数\n",
    "kaka = Dog()   #自动将self作为参数引入\n",
    "\n",
    "class Cat(PaxingAni):\n",
    "    pass\n",
    "c = Cat()   # self不需要手动给出\n",
    "# 此时子类和上一级父类都没有给出构造方法，则继续查找上一级父类"
   ]
  },
  {
   "cell_type": "code",
   "execution_count": 97,
   "metadata": {},
   "outputs": [
    {
     "name": "stdout",
     "output_type": "stream",
     "text": [
      "这是B的构造函数\n",
      "这是C的构造函数\n"
     ]
    }
   ],
   "source": [
    "# 扩展父类构造函数的功能\n",
    "class A():\n",
    "    def __init__(self,name):\n",
    "        self.name = name\n",
    "        print(\"这是A的构造函数\")\n",
    "class B(A):\n",
    "    def __init__(self,name):\n",
    "        self.name = name\n",
    "        print(\"这是B的构造函数\") \n",
    "class C(B):\n",
    "    # 第一种，通过父类名调用\n",
    "    def __init__(self,name):\n",
    "        B.__init__(self,name)\n",
    "        print(\"这是C的构造函数\")\n",
    "    # 第二种，通过super调用\n",
    "#     def __init__(self,name):\n",
    "#         super(C,self).__init__(name)\n",
    "#         print(\"这是C的构造函数\")\n",
    "c = C(\"我是C\")"
   ]
  },
  {
   "cell_type": "markdown",
   "metadata": {},
   "source": [
    "- super\n",
    "     - 不是关键字，而是一个类\n",
    "     - super的作用是获取（MethodResolutionOrder）列表中的第一个类\n",
    "     - super与父类没有什么实质性的关系，但是通过super可以调用父类\n",
    "     - super的两种使用方法：\n",
    "         - 在构造函数中调用父类的构造函数\n",
    "         - "
   ]
  },
  {
   "cell_type": "code",
   "execution_count": 39,
   "metadata": {},
   "outputs": [
    {
     "name": "stdout",
     "output_type": "stream",
     "text": [
      "<class 'type'>\n"
     ]
    }
   ],
   "source": [
    "print(type(super))\n",
    "#help(super)"
   ]
  },
  {
   "cell_type": "code",
   "execution_count": 45,
   "metadata": {},
   "outputs": [
    {
     "name": "stdout",
     "output_type": "stream",
     "text": [
      "(<class '__main__.A'>, <class 'object'>)\n",
      "(<class '__main__.B'>, <class '__main__.A'>, <class 'object'>)\n",
      "(<class '__main__.C'>, <class '__main__.B'>, <class '__main__.A'>, <class 'object'>)\n"
     ]
    }
   ],
   "source": [
    "class A():\n",
    "    pass\n",
    "class B(A):\n",
    "    pass\n",
    "class C(B,A):   # 一般在python中不推崇使用多个父类\n",
    "    pass\n",
    "print(A.__mro__)  #__mro__指的就是A的所有的父类的一个列表\n",
    "print(B.__mro__)\n",
    "print(C.__mro__)"
   ]
  },
  {
   "cell_type": "markdown",
   "metadata": {},
   "source": [
    "- 单继承和多继承\n",
    "    - 单继承：每个类智能集成一个类\n",
    "    - 多继承：每个类允许继承多个类\n",
    "    - 优缺点：\n",
    "        - 单继承：\n",
    "            - 优点：传承有序，逻辑清晰，语法简单，隐患少\n",
    "            - 缺点：功能不能无限扩展，只能在当前唯一的继承链中扩展\n",
    "        - 多继承:有顺序\n",
    "            - 优点：类的功能扩展方便\n",
    "            - 缺点：继承关系混乱"
   ]
  },
  {
   "cell_type": "code",
   "execution_count": 87,
   "metadata": {},
   "outputs": [
    {
     "name": "stdout",
     "output_type": "stream",
     "text": [
      "I am flying\n",
      "I am swimming\n",
      "I am working\n"
     ]
    }
   ],
   "source": [
    "# 多继承的例子\n",
    "# 子类可以直接拥有父类的属性和方法\n",
    "class Fish():\n",
    "    def __init__(self,name):\n",
    "        self.name = name\n",
    "    def swim(self):\n",
    "        print(\"I am swimming\")\n",
    "class Bird():\n",
    "    def __init__(self,name):\n",
    "        self.name = name\n",
    "    def fly(self):\n",
    "        print(\"I am flying\")\n",
    "class Person():\n",
    "    def __init__(self,name):\n",
    "        self.name = name\n",
    "    def work(self):\n",
    "        print(\"I am working\")\n",
    "        \n",
    "# 多继承的例子\n",
    "class Superman(Person,Bird,Fish):\n",
    "    def __init__(self,name):\n",
    "        self.name = name\n",
    "s = Superman(\"yueyue\")\n",
    "s.fly()\n",
    "s.swim()\n",
    "\n",
    "# 单继承的例子\n",
    "class Student(Person):\n",
    "    def __init__(self,name):\n",
    "        self.name = name \n",
    "stu = Student(\"yueyue\")\n",
    "stu.work()"
   ]
  },
  {
   "cell_type": "markdown",
   "metadata": {},
   "source": [
    "- 菱形继承/钻石继承的问题\n",
    "    - 菱形继承：多个子类继承自一个父类，同时这些子类又被同一个类继承，于是产生一个菱形的继承图\n",
    "        -           object\n",
    "        - Person    Fish      Bird\n",
    "        -           SuperMan\n",
    "    - 关于多继承的MRO\n",
    "        - MRO就是在多继承中保存继承顺序的一个列表\n",
    "        - python本身采用C3算法保存多继承的菱形继承的结果\n",
    "        - MRO列表的计算准则：\n",
    "            - 子类永远在父类前面\n",
    "            - 多个父类的情况下，按照父类书写的顺序存放\n",
    "            - 如果多个类继承了同一个父类，孙子类只会选取继承语法括号中的第一个父类的父类\n",
    "                -         A\n",
    "                - B    C     D    E\n",
    "                -         F\n",
    "                - 得到的MRO列表为：（F,B,C,D,E,A,Object）\n",
    "    "
   ]
  },
  {
   "cell_type": "code",
   "execution_count": 99,
   "metadata": {},
   "outputs": [
    {
     "name": "stdout",
     "output_type": "stream",
     "text": [
      "(<class '__main__.Tutor'>, <class '__main__.Teacher'>, <class '__main__.Student'>, <class '__main__.Person'>, <class 'object'>)\n"
     ]
    }
   ],
   "source": [
    "# MiXin的例子\n",
    "class Person():\n",
    "    name = \"Dana\"\n",
    "    age = 18\n",
    "    def Eat(self):\n",
    "        print(\"Eating....\")\n",
    "    def Drink(self):\n",
    "        print(\"Drinking....\")\n",
    "    def Sleep(self):\n",
    "        print(\"Sleepping....\")\n",
    "class Teacher(Person):\n",
    "    def Work(self):\n",
    "        print(\"Working....\")\n",
    "class Student(Person):\n",
    "    def Study(self):\n",
    "        print(\"Studying....\")\n",
    "class Tutor(Teacher,Student):\n",
    "    pass\n",
    "t = Tutor()\n",
    "\n",
    "print(Tutor.__mro__)"
   ]
  },
  {
   "cell_type": "markdown",
   "metadata": {},
   "source": [
    "## 5.3 多态\n",
    "- 多态就是同一个对象在不同的情况下以不同的状态出现\n",
    "- 多态不是语法，是一种设计思想\n",
    "- 多态性：一种调用方式，不同的执行效果\n",
    "- 多态：同一事物的多种形态，比如说动物分为人类，猪类，狗类...\n",
    "\n",
    "- MiXin设计模式\n",
    "    - 主要采用多继承方式对类的功能进行扩展\n",
    "    - 少用\n",
    "    - 表示一个单一的功能，而不是某个物品\n",
    "    - 职责必须单一，如果需要多个功能，则需要写多个MiXin\n",
    "    - 子类即使没有继承这个MiXin类，也能照样工作，只是缺少了某个功能\n",
    "    - 优点：\n",
    "        - 可以在不对类进行任何修改的情况下扩充功能\n",
    "        - 可以方便地组织和维护不同功能组件的划分\n",
    "        - 可以根据需要任意调整功能类的组合\n",
    "        - 可以避免创建很多新的类，导致类的继承混乱\n",
    "        "
   ]
  },
  {
   "cell_type": "code",
   "execution_count": 105,
   "metadata": {},
   "outputs": [
    {
     "name": "stdout",
     "output_type": "stream",
     "text": [
      "(<class '__main__.Tutor'>, <class '__main__.Teacher'>, <class '__main__.Student'>, <class '__main__.Person'>, <class 'object'>)\n",
      "{}\n",
      "{'__module__': '__main__', '__doc__': None}\n",
      "**************************************************\n",
      "(<class '__main__.TutorM'>, <class '__main__.Person'>, <class '__main__.TeacherMiXin'>, <class '__main__.StudentMiXin'>, <class 'object'>)\n",
      "{}\n",
      "{'__module__': '__main__', '__doc__': None}\n"
     ]
    }
   ],
   "source": [
    "# MiXin的例子\n",
    "class Person():\n",
    "    name = \"Dana\"\n",
    "    age = 18\n",
    "    def Eat(self):\n",
    "        print(\"Eating....\")\n",
    "    def Drink(self):\n",
    "        print(\"Drinking....\")\n",
    "    def Sleep(self):\n",
    "        print(\"Sleepping....\")\n",
    "# 此时，老师和学生有继承功能\n",
    "class Teacher(Person):  \n",
    "    def Work(self):\n",
    "        print(\"Working....\")\n",
    "class Student(Person):\n",
    "    def Study(self):\n",
    "        print(\"Studying....\")\n",
    "class Tutor(Teacher,Student):\n",
    "    pass\n",
    "t = Tutor()\n",
    "\n",
    "print(Tutor.__mro__)\n",
    "print(t.__dict__)\n",
    "print(Tutor.__dict__)\n",
    "\n",
    "print(\"*\"*50)\n",
    "class TeacherMiXin():  #此时老师和学生表示单一的功能，不存在继承\n",
    "    def Work(self):\n",
    "        print(\"Working....\")\n",
    "class StudentMiXin():\n",
    "    def Study(self):\n",
    "        print(\"Studying....\")\n",
    "class TutorM(Person,TeacherMiXin,StudentMiXin):\n",
    "    pass\n",
    "tt = TutorM()\n",
    "print(TutorM.__mro__)\n",
    "print(tt.__dict__)\n",
    "print(TutorM.__dict__)\n"
   ]
  },
  {
   "cell_type": "markdown",
   "metadata": {},
   "source": [
    "- 类的相关函数\n",
    "- issubclass(B,A):检测B是否是A的子类\n",
    "- isinstance(a,A):检测对象a是否是类A的实例\n",
    "- hasattr(a,attr):检测一个对象是否有成员xxx\n",
    "- getattr:get attribute\n",
    "- setattr:set attribute\n",
    "- delattr:delete attribute\n",
    "- dir:获取对象的成员列表"
   ]
  },
  {
   "cell_type": "code",
   "execution_count": 111,
   "metadata": {},
   "outputs": [
    {
     "name": "stdout",
     "output_type": "stream",
     "text": [
      "True\n",
      "False\n",
      "['__class__', '__delattr__', '__dict__', '__dir__', '__doc__', '__eq__', '__format__', '__ge__', '__getattribute__', '__gt__', '__hash__', '__init__', '__init_subclass__', '__le__', '__lt__', '__module__', '__ne__', '__new__', '__reduce__', '__reduce_ex__', '__repr__', '__setattr__', '__sizeof__', '__str__', '__subclasshook__', '__weakref__', 'name']\n"
     ]
    }
   ],
   "source": [
    "class A():\n",
    "    name = \"dsf\"\n",
    "a = A()\n",
    "print(hasattr(a,\"name\"))\n",
    "print(hasattr(a,\"age\"))\n",
    "\n",
    "print(dir(A))"
   ]
  },
  {
   "cell_type": "markdown",
   "metadata": {},
   "source": [
    "## 5.4 类的成员描述符（属性）\n",
    "- 类的成员描述符是为了在类中对类的成员属性进行相关操作而创建的一种方式\n",
    "    - get:获取属性\n",
    "    - set:修改或者添加\n",
    "    - delete:删除属性\n",
    "- 使用类的成员描述符有三种方法：\n",
    "    - 使用类描述器:适用于多个类中，控制多个类的多个属性\n",
    "    - 使用属性修饰符:适用于一个类中，控制当前类的一个属性\n",
    "    - 使用property函数：:适用于一个类中，控制当前类的多个属性\n",
    "        - 很简单\n",
    "        - 语法：property(fget,fset,fdel,doc)\n",
    "    "
   ]
  },
  {
   "cell_type": "code",
   "execution_count": 124,
   "metadata": {},
   "outputs": [
    {
     "name": "stdout",
     "output_type": "stream",
     "text": [
      "hi，my name is LIU YING\n",
      "hi，my age is 19\n",
      "hi，my name is MICHI STANGLE\n",
      "hi，my age is 24\n"
     ]
    }
   ],
   "source": [
    "# 属性案例\n",
    "# 创建Student类，描述学生类\n",
    "# 学生具有name,Student属性\n",
    "# 但name 格式并不统一\n",
    "class Student1():\n",
    "    def __init__(self,name,age):\n",
    "        self.name = name\n",
    "        self.age = age\n",
    "        self.SetName(name)\n",
    "    # 介绍下 自己\n",
    "    def intro(self):\n",
    "        print(\"hi，my name is {0}\".format(self.name))\n",
    "        print(\"hi，my age is {0}\".format(self.age))\n",
    "    def SetName(self,name):\n",
    "        self.name = name.upper()\n",
    "s1 = Student1(\"Liu Ying\",19)\n",
    "s2 = Student1(\"michi stangle\",24)\n",
    "s1.intro()\n",
    "s2.intro()"
   ]
  },
  {
   "cell_type": "code",
   "execution_count": 131,
   "metadata": {},
   "outputs": [
    {
     "name": "stdout",
     "output_type": "stream",
     "text": [
      "TULINGTULING\n"
     ]
    }
   ],
   "source": [
    "# property 案例\n",
    "# 定义一个person类，具有name,age属性，\n",
    "# 对于任意输入的姓名，希望以大写方式保存\n",
    "# 年龄，希望统一用整数保存\n",
    "# x = property(fget,fset,fdel,doc)\n",
    "class Person():\n",
    "    # 函数名称随意设置\n",
    "    def fget(self):\n",
    "        return self._name * 2   # 字符串×2表示字符串叠加\n",
    "    def fset(self,name):\n",
    "        self._name = name.upper()\n",
    "    def fdel(self):\n",
    "        self._name = \"Noname\"\n",
    "    name = property(fget,fset,fdel,\"对name进行操作\")\n",
    "p1 = Person()\n",
    "p1.name = \"TuLing\"    # 给实例化对象p1设置了一个name属性，调用了fset函数\n",
    "print(p1.name)      #调用了fget函数\n",
    "        "
   ]
  },
  {
   "cell_type": "code",
   "execution_count": 144,
   "metadata": {},
   "outputs": [
    {
     "name": "stdout",
     "output_type": "stream",
     "text": [
      "11\n"
     ]
    }
   ],
   "source": [
    "# 作业：\n",
    "# 在用户输入年龄的时候可以输入整数，小数，浮点数\n",
    "# 但内部为了数据清洁，只能保存整数，去掉小数\n",
    "class Person():\n",
    "    # 函数名称随意设置\n",
    "    def fget(self):\n",
    "        return self._age  # 字符串×2表示字符串叠加\n",
    "    def fset(self,age):\n",
    "        self._age = round(age)\n",
    "    def fdel(self):\n",
    "        self._age = \"Noage\"\n",
    "    age = property(fget,fset,fdel,\"对age进行操作\")\n",
    "p1 = Person()\n",
    "p1.age = 11.2    # 给实例化对象p1设置了一个name属性，调用了fset函数\n",
    "print(p1.age)      #调用了fget函数"
   ]
  },
  {
   "cell_type": "markdown",
   "metadata": {},
   "source": [
    "## 5.5 类的内置属性\n",
    "- __dict__:以字典的方式来显示类的成员组成\n",
    "- __doc__:获取类的文档信息\n",
    "- __name__:获取类的名称，如果在模块中使用则表示获取模块的名称\n",
    "- __bases__:获取某个类的所有父亲，以元组的方式显示"
   ]
  },
  {
   "cell_type": "code",
   "execution_count": 149,
   "metadata": {},
   "outputs": [
    {
     "name": "stdout",
     "output_type": "stream",
     "text": [
      "{'__module__': '__main__', '__doc__': '\\n    这是一个高尚的人\\n    ', 'fget': <function Person.fget at 0x000002B13DA4F598>, 'fset': <function Person.fset at 0x000002B13DA4F488>, 'fdel': <function Person.fdel at 0x000002B13DA4F620>, 'age': <property object at 0x000002B13DA4E868>, '__dict__': <attribute '__dict__' of 'Person' objects>, '__weakref__': <attribute '__weakref__' of 'Person' objects>}\n",
      "\n",
      "    这是一个高尚的人\n",
      "    \n",
      "Person\n",
      "(<class 'object'>,)\n"
     ]
    }
   ],
   "source": [
    "# 类的内置属性举例\n",
    "class Person():\n",
    "    # 说明文档,必须位于这个位置\n",
    "    '''\n",
    "    这是一个高尚的人\n",
    "    '''\n",
    "    # 函数名称随意设置\n",
    "    def fget(self):\n",
    "        return self._age  # 字符串×2表示字符串叠加\n",
    "    def fset(self,age):\n",
    "        self._age = round(age)\n",
    "    def fdel(self):\n",
    "        self._age = \"Noage\"\n",
    "    age = property(fget,fset,fdel,\"对age进行操作\")\n",
    "print(Person.__dict__)\n",
    "print(Person.__doc__)\n",
    "print(Person.__name__)\n",
    "print(Person.__bases__)"
   ]
  },
  {
   "cell_type": "markdown",
   "metadata": {},
   "source": [
    "## 5.6类的常用魔术方法\n",
    "- 魔术方法就是不需要人为调用的方法，在特定的时刻自动触发\n",
    "- 魔术方法的统一特征：方法名被前后各两个下划线包裹\n",
    "- 操作符\n",
    "    - 例如：__init__:构造函数，\n",
    "    - __new__:对象实例化函数，此魔术方法需要重启，一般别用\n",
    "    - __call__:对象当函数使用时触发\n",
    "    - __str__:对象当做字符串使用时触发 \n",
    "    - __repr__:返回字符串，和__str__有点区别"
   ]
  },
  {
   "cell_type": "code",
   "execution_count": 177,
   "metadata": {},
   "outputs": [
    {
     "name": "stdout",
     "output_type": "stream",
     "text": [
      "哈哈，我被调用了\n",
      "我被调用了again\n",
      "我被调用了again******\n",
      "我被调用了again******\n"
     ]
    }
   ],
   "source": [
    "# __str__函数和__repr__函数的区别\n",
    "class A(object):    # 可以写A,A(),A(object)\n",
    "    def __init__(self,name=0):\n",
    "        print(\"哈哈，我被调用了\")\n",
    "    def __call__(self):\n",
    "        print(\"我被调用了again\")\n",
    "    def __str__(self):\n",
    "        return \"我被调用了again******\"\n",
    "    def __repr__(self):\n",
    "        return \"我被调用了again-----\"\n",
    "a = A()\n",
    "a()  # 自动调用__call__函数\n",
    "#优先调用__str__函数，当发现目前的类中不存在__str__时，则寻找__repr__函数，\n",
    "#当两者都没有找到时，则继续寻找父类中的__str__和__repr__函数\n",
    "print(a)  # 自动调用__str__函数   \n",
    "print(a)  # 自动调用__str__函数"
   ]
  },
  {
   "cell_type": "code",
   "execution_count": 181,
   "metadata": {},
   "outputs": [
    {
     "name": "stdout",
     "output_type": "stream",
     "text": [
      "zhangsan\n",
      "zhangsan\n",
      "hahahah\n",
      "wangwu\n",
      "zhangsan\n"
     ]
    }
   ],
   "source": [
    "# 实例化对象的一些tip\n",
    "class A():\n",
    "    name = \"LiSi\"\n",
    "    def __init__(self):\n",
    "        print(\"hahahah\")\n",
    "        \n",
    "# a直接指向了类A\n",
    "a = A    \n",
    "a.name = \"zhangsan\"\n",
    "print(a.name) \n",
    "print(A.name)\n",
    "\n",
    "# 实例化\n",
    "a1 = A()  # a1是类A的一个实例化对象\n",
    "a1.name = (\"wangwu\")\n",
    "print(a1.name) \n",
    "print(A.name)"
   ]
  },
  {
   "cell_type": "markdown",
   "metadata": {},
   "source": [
    "- 描述符\n",
    "    - __set__\n",
    "    - __get__\n",
    "    - __delete__\n",
    "- 属性操作相关的描述符\n",
    "    - __getattr__:访问一个不存在的属性\n",
    "    - __setattr__:对成员属性进行设置时触发\n",
    "        - 参数：\n",
    "            - self用来获取当前的对象\n",
    "            - 被设置的属性名称以字符串形式出现\n",
    "            - 需要对属性名称设置的值\n",
    "        - 作用：验证或者修改属性\n",
    "        - 注意：在该方法中不能直接对于属性进行赋值，否则进入死循环,此时需要调用父类的__setattr__函数进行运算：super().__setattr__(参数)"
   ]
  },
  {
   "cell_type": "code",
   "execution_count": 198,
   "metadata": {},
   "outputs": [
    {
     "name": "stdout",
     "output_type": "stream",
     "text": [
      "djhs\n",
      "<__main__.A object at 0x000002B13DA71898>\n",
      "addr\n",
      "没有找到呀\n",
      "None\n"
     ]
    }
   ],
   "source": [
    "class A():\n",
    "    name = \"djhs\"\n",
    "    age = \"48\"\n",
    "    def __getattr__(self,name):   # 自动返回None\n",
    "        print(self)  \n",
    "        print(name)\n",
    "        print(\"没有找到呀\")\n",
    "a = A()\n",
    "print(a.name)\n",
    "print(a.addr)     #自动调用__getattr__函数，传入了两个参数：a和addr\n",
    "# 对应地self表示的就是实例化对象a,name就是传入的addr\n"
   ]
  },
  {
   "cell_type": "code",
   "execution_count": 2,
   "metadata": {},
   "outputs": [
    {
     "name": "stdout",
     "output_type": "stream",
     "text": [
      "{}\n",
      "设置属性：age\n"
     ]
    }
   ],
   "source": [
    "# __setattr__案例\n",
    "class Person():\n",
    "    def __init__(self):\n",
    "        pass\n",
    "    def __setattr__(self,name,value):\n",
    "        print(\"设置属性：{0}\".format(name))\n",
    "        # 下面的语句会导致问题，死循环\n",
    "        # self.name = value # 属性变量赋值后就会自动调用__setattr__函数，导致死循环\n",
    "        # 这种情况下，为了避免死循环，统一规定调用父类的魔法函数\n",
    "        super().__setattr__(name,value)\n",
    "p = Person()\n",
    "print(p.__dict__)\n",
    "p.age = 18"
   ]
  },
  {
   "cell_type": "markdown",
   "metadata": {},
   "source": [
    "- 运算分类相关魔术方法\n",
    "    - __gt__：进行大于判断时触发的函数\n",
    "        - 参数：\n",
    "            - self\n",
    "            - 第二个参数是第二个对象\n",
    "            - 返回值可以是任意值，推荐使用布尔值\n",
    "            - 案例"
   ]
  },
  {
   "cell_type": "code",
   "execution_count": 7,
   "metadata": {},
   "outputs": [
    {
     "name": "stdout",
     "output_type": "stream",
     "text": [
      "哈哈，one 比 two 大吗？\n",
      "False\n"
     ]
    }
   ],
   "source": [
    "# __gt__\n",
    "class Student:\n",
    "    def __init__(self,name):\n",
    "        self.name = name\n",
    "    def __gt__(self,obj):  # 按照字符串形式进行比较\n",
    "        print(\"哈哈，{0} 比 {1} 大吗？\".format(self.name,obj.name))\n",
    "        return self.name > obj.name\n",
    "stu1 = Student(\"one\")\n",
    "stu2 = Student(\"two\")\n",
    "print(stu1 > stu2)  # 两者比较时自动调用__gt__函数"
   ]
  },
  {
   "cell_type": "markdown",
   "metadata": {},
   "source": [
    "## 5.7 类和对象的三种方法\n",
    "- 实例方法\n",
    "    - 需要实例化对象才能使用的方法，使用过程中可能需要截止对象的其他对象的方法完成\n",
    "- 静态方法\n",
    "    - 不需要实例化，通过类直接访问\n",
    "- 类方法\n",
    "    - 不需要实例化\n",
    "- 参看案例"
   ]
  },
  {
   "cell_type": "code",
   "execution_count": 49,
   "metadata": {},
   "outputs": [
    {
     "name": "stdout",
     "output_type": "stream",
     "text": [
      "<__main__.Person object at 0x00000267495C06A0>\n",
      "<class '__main__.Person'>\n",
      "Playing.....\n",
      "<class '__main__.Person'>\n",
      "Playing.....\n",
      "saying......\n",
      "saying......\n"
     ]
    }
   ],
   "source": [
    "# 三种方法的案例\n",
    "class Person():\n",
    "    # 实例方法\n",
    "    def eat(self):\n",
    "        print(self)\n",
    "        \n",
    "        \n",
    "    # 类方法\n",
    "    # 类方法的第一个参数一般命名为cls,区别于self\n",
    "    @classmethod\n",
    "    def play(cls):\n",
    "        print(cls)\n",
    "        print(\"Playing.....\")\n",
    "        \n",
    "    # 静态方法\n",
    "    # 不需要使用第一个参数表示自身或者类\n",
    "    @staticmethod\n",
    "    def say():\n",
    "        print(\"saying......\")\n",
    "        \n",
    "    yueyue = Person()\n",
    "    #实例方法\n",
    "    yueyue.eat()\n",
    "    #类方法\n",
    "    Person.play()\n",
    "    yueyue.play()\n",
    "    #静态方法\n",
    "    Person.say()\n",
    "    yueyue.say()"
   ]
  },
  {
   "cell_type": "code",
   "execution_count": 51,
   "metadata": {},
   "outputs": [
    {
     "name": "stdout",
     "output_type": "stream",
     "text": [
      "haha\n",
      "Dana\n"
     ]
    }
   ],
   "source": [
    "# 变量的三种用法\n",
    "class A():\n",
    "    def __init__(self):\n",
    "        self.name = \"haha\"\n",
    "        self.age = 18\n",
    "a = A()\n",
    "# 读取\n",
    "print(a.name)\n",
    "# 赋值\n",
    "a.name = \"Dana\"\n",
    "print(a.name)\n",
    "# 删除\n",
    "del a.name # 删除后类A或者A的实例化对象中都将不包含属性name\n",
    "# print(a.name)"
   ]
  },
  {
   "cell_type": "markdown",
   "metadata": {},
   "source": [
    "## 抽象类\n",
    "- 抽象方法：没有具体的内容\n",
    "- 规范子类的行为和接口\n",
    "- 需要借助abc模块\n",
    "        import abc\n",
    "- 包含抽象方法的类称为抽象类，通常叫做ABC类\n",
    "- 抽象类的使用：\n",
    "    - 抽象类可以包含抽象方法，也可以包含具体的方法\n",
    "    - 抽象类中可以有方法也可以有属性\n",
    "    - 抽象类不允许直接实例化\n",
    "    - 必须继承才可以使用，而且继承的子类必须实现所有的抽象方法\n",
    "    - 假定子类没有实现继承的所有抽象方法，则子类也不能实例化\n",
    "    - 抽象类主要是为了设定类的标准，以便于开发时具有统一的规范"
   ]
  },
  {
   "cell_type": "code",
   "execution_count": 59,
   "metadata": {},
   "outputs": [
    {
     "name": "stdout",
     "output_type": "stream",
     "text": [
      "闻下对方的味道......\n",
      "KISS......\n"
     ]
    }
   ],
   "source": [
    "# 抽象类举例\n",
    "class Animal():\n",
    "    # 子类中需要实现的功能不同，故而直接在子类中写入功能即可，父类中不用添加\n",
    "    # 主要为了说明继承父类的子类需要实现的方法，具体怎么实现由子类决定\n",
    "    def SayHello(self):\n",
    "        pass\n",
    "\n",
    "class Dog(Animal):\n",
    "    def SayHello(self):\n",
    "        print(\"闻下对方的味道......\")\n",
    "\n",
    "class Person(Animal):\n",
    "    def SayHello(self):\n",
    "        print(\"KISS......\")\n",
    "d = Dog()\n",
    "d.SayHello()\n",
    "\n",
    "p = Person()\n",
    "p.SayHello()\n"
   ]
  },
  {
   "cell_type": "code",
   "execution_count": 61,
   "metadata": {},
   "outputs": [],
   "source": [
    "# 抽象类的实现案例\n",
    "import abc\n",
    "# 声明一个类并且指定当前类的元类\n",
    "class Human(metaclass=abc.ABCMeta):\n",
    "    # 定义一个抽象的方法\n",
    "    @abc.abstractmethod\n",
    "    def smoking(self):\n",
    "        pass\n",
    "    # 定义类抽象方法\n",
    "    @abc.abstractclassmethod\n",
    "    def drink():\n",
    "        pass\n",
    "    # 定义静态抽象方法\n",
    "    @abc.abstractstaticmethod\n",
    "    def play():\n",
    "        pass\n",
    "    def sleep(self):\n",
    "        print(\"sleeping\")\n",
    "    "
   ]
  },
  {
   "cell_type": "code",
   "execution_count": 67,
   "metadata": {},
   "outputs": [
    {
     "name": "stdout",
     "output_type": "stream",
     "text": [
      "Saying.....\n",
      "Saying.....\n",
      "{'__module__': '__main__', '__dict__': <attribute '__dict__' of 'A' objects>, '__weakref__': <attribute '__weakref__' of 'A' objects>, '__doc__': None, 'say': <function say at 0x0000026749207F28>}\n",
      "Saying.....\n"
     ]
    }
   ],
   "source": [
    "# 自己组装一个类\n",
    "class A():\n",
    "    pass\n",
    "def say(self):\n",
    "    print(\"Saying.....\")\n",
    "say(9)\n",
    "A.say = say   # 函数名可以当做变量使用，给A增加一个方法say\n",
    "a = A()\n",
    "a.say()\n",
    "print(A.__dict__)\n",
    "# 上下的程序等价\n",
    "class B():\n",
    "    def say(self):\n",
    "        print(\"Saying.....\")\n",
    "b = B()\n",
    "b.say()\n"
   ]
  },
  {
   "cell_type": "code",
   "execution_count": 75,
   "metadata": {},
   "outputs": [
    {
     "name": "stdout",
     "output_type": "stream",
     "text": [
      "Saying.....\n",
      "**************************************************\n",
      "Saying.....\n"
     ]
    }
   ],
   "source": [
    "# 给实例化对象添加方法\n",
    "class A():\n",
    "    pass\n",
    "def say(self):\n",
    "    print(\"Saying.....\")\n",
    " \n",
    "a = A()\n",
    "a.say = say \n",
    "a.say(a)  #此时需要手动传入参数，self没有自动传入\n",
    "\n",
    "print(\"*\"*50)\n",
    "# 为了避免手动传入参数，可以通过传入MethodType模块\n",
    "from types import MethodType\n",
    "class A():\n",
    "    pass\n",
    "def say(self):\n",
    "    print(\"Saying.....\")\n",
    " \n",
    "a = A()\n",
    "a.say = MethodType(say,A)\n",
    "a.say()  "
   ]
  },
  {
   "cell_type": "markdown",
   "metadata": {},
   "source": [
    "## 5.9 自定义类\n",
    "- 类其实是一个类定义和各种方法的自由组合\n",
    "- 可以定义类和函数，然后自己通过类直接赋值\n",
    "- 可以借助于MethodType函数\n",
    "- 借助于type实现\n",
    "- 利用元类实现，MetaClass\n",
    "     - 元类是类，\n",
    "     - 备用来创造别的类"
   ]
  },
  {
   "cell_type": "code",
   "execution_count": 100,
   "metadata": {},
   "outputs": [
    {
     "name": "stdout",
     "output_type": "stream",
     "text": [
      "['__class__', '__delattr__', '__dict__', '__dir__', '__doc__', '__eq__', '__format__', '__ge__', '__getattribute__', '__gt__', '__hash__', '__init__', '__init_subclass__', '__le__', '__lt__', '__module__', '__ne__', '__new__', '__reduce__', '__reduce_ex__', '__repr__', '__setattr__', '__sizeof__', '__str__', '__subclasshook__', '__weakref__', 'say', 'talk']\n",
      "saying...\n"
     ]
    }
   ],
   "source": [
    "type(8)\n",
    "# 利用tyoe造一个类\n",
    "# 先定义类应该具有的成员函数\n",
    "def say(self):\n",
    "    print(\"saying...\")\n",
    "    \n",
    "def talk(self):\n",
    "    print(\"Talking...\")\n",
    "# 利用type来创建一个类\n",
    "A = type(\"A\",(object, ),{\"say\":say,\"talk\":talk})\n",
    "print(dir(A))\n",
    "# 正常访问\n",
    "a = A()\n",
    "a.say()"
   ]
  },
  {
   "cell_type": "code",
   "execution_count": 97,
   "metadata": {},
   "outputs": [
    {
     "name": "stdout",
     "output_type": "stream",
     "text": [
      "13\n",
      "13\n",
      "static method.....\n",
      "wangbo\n"
     ]
    }
   ],
   "source": [
    "#运用type创建类、添加属性\n",
    "Test = type(\"Test\",(),{'age':13,'name':\"wangbo\"})\n",
    "test = Test()\n",
    "print(test.age)\n",
    "\n",
    "#利用type添加方法\n",
    "@classmethod #类方法\n",
    "def testClass(cls):\n",
    "    print(cls.name)\n",
    "\n",
    "@staticmethod #静态方法\n",
    "def testStatic():\n",
    "    print(\"static method.....\")\n",
    "\n",
    "def echo_age(self):\n",
    "    print(self.age)\n",
    "Test2 = type(\"Test2\",(Test,),{'echo_age':echo_age,'testStatic':testStatic,'testClass':testClass})\n",
    "test2 = Test2()\n",
    "test2.echo_age()\n",
    "test2.testStatic()\n",
    "test2.testClass()"
   ]
  },
  {
   "cell_type": "code",
   "execution_count": 114,
   "metadata": {},
   "outputs": [
    {
     "name": "stdout",
     "output_type": "stream",
     "text": [
      "哈哈，我是元类啊\n"
     ]
    },
    {
     "data": {
      "text/plain": [
       "'00000'"
      ]
     },
     "execution_count": 114,
     "metadata": {},
     "output_type": "execute_result"
    }
   ],
   "source": [
    "# 利用元类实现，MetaClass\n",
    "# 元类写法固定，必须继承自type,一般以MetaClass结尾\n",
    "class hhMetaClass(type):\n",
    "        # 注意以下写法\n",
    "        def __new__(cls,name,bases,attrs):\n",
    "            # 自己的业务处理\n",
    "            print(\"哈哈，我是元类啊\")\n",
    "            attrs['id'] = \"00000\"\n",
    "            attrs['addr'] = \"dshjajjaf\"\n",
    "            return type.__new__(cls,name,bases,attrs)\n",
    "# 元类定义完成就可以使用，使用注意写法\n",
    "class Teacher(object,metaclass=hhMetaClass):\n",
    "    pass\n",
    "\n",
    "t = Teacher()\n",
    "t.id"
   ]
  },
  {
   "cell_type": "code",
   "execution_count": null,
   "metadata": {},
   "outputs": [],
   "source": [
    "p"
   ]
  }
 ],
 "metadata": {
  "kernelspec": {
   "display_name": "Python 3",
   "language": "python",
   "name": "python3"
  },
  "language_info": {
   "codemirror_mode": {
    "name": "ipython",
    "version": 3
   },
   "file_extension": ".py",
   "mimetype": "text/x-python",
   "name": "python",
   "nbconvert_exporter": "python",
   "pygments_lexer": "ipython3",
   "version": "3.7.1"
  }
 },
 "nbformat": 4,
 "nbformat_minor": 2
}
