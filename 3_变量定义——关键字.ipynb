{
 "cells": [
  {
   "cell_type": "code",
   "execution_count": 2,
   "metadata": {},
   "outputs": [
    {
     "name": "stdout",
     "output_type": "stream",
     "text": [
      "['False', 'None', 'True', 'and', 'as', 'assert', 'async', 'await', 'break', 'class', 'continue', 'def', 'del', 'elif', 'else', 'except', 'finally', 'for', 'from', 'global', 'if', 'import', 'in', 'is', 'lambda', 'nonlocal', 'not', 'or', 'pass', 'raise', 'return', 'try', 'while', 'with', 'yield']\n"
     ]
    }
   ],
   "source": [
    "# 引入查看关键字模块\n",
    "import keyword\n",
    "# 打印系统的全部关键字\n",
    "print(keyword.kwlist)"
   ]
  },
  {
   "cell_type": "code",
   "execution_count": 5,
   "metadata": {},
   "outputs": [
    {
     "name": "stdout",
     "output_type": "stream",
     "text": [
      "18\n",
      "18\n"
     ]
    }
   ],
   "source": [
    "#定义变量age,把18放入变量age中\n",
    "age = 18\n",
    "print(age)\n",
    "print(18)\n",
    "\n",
    "#给age1,age2放入同一个内容\n",
    "age1 = age2 = 18\n",
    "\n",
    "# 一行内给多个变量赋值\n",
    "age4,age5,age6 = 12,21,45"
   ]
  },
  {
   "cell_type": "code",
   "execution_count": 6,
   "metadata": {},
   "outputs": [],
   "source": [
    "# 声明的三种方式\n",
    "# 格式1 \n",
    "s1 = \"dsj\"\n",
    "\n",
    "# 格式2\n",
    "s2 = s1 = \"dsj\"\n",
    "\n",
    "# 格式3\n",
    "s1,s2 = \"dsj\",\"dsasg\""
   ]
  },
  {
   "cell_type": "markdown",
   "metadata": {},
   "source": [
    "# 变量类型\n",
    "- 数字Number \n",
    "- 字符串str\n",
    "- 列表List\n",
    "- 元组tuple\n",
    "- 字典 Dictionary\n",
    "- 集合set\n"
   ]
  },
  {
   "cell_type": "markdown",
   "metadata": {},
   "source": [
    "# 数字 Number\n",
    "- python 中数字没有大小限制\n",
    "- 整数\n",
    "    - 没有小数部分\n",
    "    - 正数，负数，0\n",
    "    - 二进制\n",
    "        - 只有0和1\n",
    "        - 以0b开头的01串即为二进制\n",
    "        - 例如：\n",
    "            - 0b110 : 6\n",
    "            - 0b11110 : 30\n",
    "    - 八进制\n",
    "        - 以0o开头，0~7之间的数字串\n",
    "    - 十六进制\n",
    "        - 以0x组成的，0-9，a-x组成的串\n",
    "- 浮点数\n",
    "- 科学计数法\n",
    "- 复数（很少用到）"
   ]
  },
  {
   "cell_type": "code",
   "execution_count": 7,
   "metadata": {},
   "outputs": [
    {
     "name": "stdout",
     "output_type": "stream",
     "text": [
      "6\n"
     ]
    }
   ],
   "source": [
    "# 二进制定义\n",
    "a1 = 0b110\n",
    "print(a1)"
   ]
  },
  {
   "cell_type": "code",
   "execution_count": null,
   "metadata": {},
   "outputs": [],
   "source": [
    "# 二进制定义\n",
    "a2 = 0o123407\n",
    "print(a2)"
   ]
  },
  {
   "cell_type": "markdown",
   "metadata": {},
   "source": [
    "# 浮点数\n",
    "- 常见格式：\n",
    "    - 3.1415926\n",
    "    - 3. 也就是3.0\n",
    "    - .5 也就是0.5\n",
    "- 科学计数法\n",
    "    - e : 314.15 表示为 3.1415e2"
   ]
  },
  {
   "cell_type": "markdown",
   "metadata": {},
   "source": [
    "# 复数\n",
    "- 与数学定义一致\n",
    "- 虚部用j/J表示\n",
    "- 例如：\n",
    "    - 5+4j\n",
    "    - 4j"
   ]
  },
  {
   "cell_type": "markdown",
   "metadata": {},
   "source": [
    "# 布尔值\n",
    "- 用来表示真假\n",
    "- True 和 False\n",
    "    - python中，布尔值可以当数字使用，True=1,False=0\n",
    "    - 数字当布尔值使用，0 = False,其余=1"
   ]
  },
  {
   "cell_type": "code",
   "execution_count": 10,
   "metadata": {},
   "outputs": [
    {
     "name": "stdout",
     "output_type": "stream",
     "text": [
      "19\n"
     ]
    }
   ],
   "source": [
    "age = 18 + True\n",
    "print(age)"
   ]
  },
  {
   "cell_type": "markdown",
   "metadata": {},
   "source": [
    "# 字符串\n",
    "- 引号引起来的一段内容\n",
    "- 引号包含\n",
    "    - 单引号\n",
    "    - 双引号\n",
    "    - 三引号，表示多行信息\n",
    "- 单双引号含义一致\n",
    "- "
   ]
  },
  {
   "cell_type": "code",
   "execution_count": 12,
   "metadata": {},
   "outputs": [
    {
     "name": "stdout",
     "output_type": "stream",
     "text": [
      "\n",
      "我\n",
      "爱\n",
      "王\n",
      "小\n",
      "警\n",
      "\n"
     ]
    }
   ],
   "source": [
    "love = '''\n",
    "我\n",
    "爱\n",
    "王\n",
    "小\n",
    "警\n",
    "'''\n",
    "print(love)"
   ]
  },
  {
   "cell_type": "markdown",
   "metadata": {},
   "source": [
    "# None类型\n",
    "- 表示没有，用来占位\n",
    "- 比如返回，表示返回空\n"
   ]
  },
  {
   "cell_type": "markdown",
   "metadata": {},
   "source": [
    "# 表达式\n",
    "- 由一个或者几个数字或者变量或者运算符合成的一行代码"
   ]
  },
  {
   "cell_type": "markdown",
   "metadata": {},
   "source": [
    "# 身份运算符\n",
    "- 用来确定两个变量是否是同一个变量（指的是两个变量指向同一个地址内的值），并不仅仅指代变量的值相同\n",
    "- is:变量运算符\n",
    "- is not：不是"
   ]
  },
  {
   "cell_type": "code",
   "execution_count": 17,
   "metadata": {},
   "outputs": [
    {
     "name": "stdout",
     "output_type": "stream",
     "text": [
      "False\n",
      "False\n",
      "2727561920944\n",
      "140730818343760\n",
      "True\n",
      "True\n"
     ]
    }
   ],
   "source": [
    "#身份运算符\n",
    "a = 1\n",
    "b = 1000438935\n",
    "\n",
    "aa = a is b\n",
    "print(aa)\n",
    "\n",
    "a1 = 1009  #两个变量仅仅是值一样，并不代表a1,b1是一个变量，我们比较的是变量的存储地址\n",
    "b1 = 1009\n",
    "\n",
    "aa1 = a1 is b1\n",
    "print(aa1)\n",
    "print(id(a1))\n",
    "print(id(a2))\n",
    "\n",
    "a2 = b2 = 1 #两个变量指代的是同一个位置内的值\n",
    "print(a2 is b2)\n",
    "\n",
    "#但是python中将一些小一些的数（-5，,256）直接存在了一个固定的地址\n",
    "a3 = 1\n",
    "b3 = 1\n",
    "print(a3 is b3)"
   ]
  },
  {
   "cell_type": "markdown",
   "metadata": {},
   "source": [
    "# 成员运算符\n",
    "- 用来检测一个值或者变量是否在某个集合里面\n",
    "- in:成员运算符\n",
    "- in not :不在里面"
   ]
  },
  {
   "cell_type": "code",
   "execution_count": 18,
   "metadata": {
    "scrolled": true
   },
   "outputs": [
    {
     "name": "stdout",
     "output_type": "stream",
     "text": [
      "False\n"
     ]
    }
   ],
   "source": [
    "L = [1,2,3,4,5]\n",
    "a = 6\n",
    "aa = a in L\n",
    "print(aa)"
   ]
  },
  {
   "cell_type": "markdown",
   "metadata": {},
   "source": [
    "# 运算符优先级\n",
    "- 小括号具备最高优先级\n",
    "    - 指数运算符**\n",
    "    - `+ - 按位翻转\n",
    "    "
   ]
  }
 ],
 "metadata": {
  "kernelspec": {
   "display_name": "Python 3",
   "language": "python",
   "name": "python3"
  },
  "language_info": {
   "codemirror_mode": {
    "name": "ipython",
    "version": 3
   },
   "file_extension": ".py",
   "mimetype": "text/x-python",
   "name": "python",
   "nbconvert_exporter": "python",
   "pygments_lexer": "ipython3",
   "version": "3.7.1"
  }
 },
 "nbformat": 4,
 "nbformat_minor": 2
}
