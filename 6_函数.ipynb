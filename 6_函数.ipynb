{
 "cells": [
  {
   "cell_type": "markdown",
   "metadata": {},
   "source": [
    "# 函数\n",
    "- 函数是代码的一种组织形式\n",
    "- 可以完成一项特定的工作，而且一个函数仅仅完成一项工作\n",
    "- 有返回结果的叫做函数，无返回结果叫做过程，python中不作区分\n",
    "- 函数的使用\n",
    "    - 使用前先定义\n",
    "    - 使用函数，俗称调用\n",
    "- 格式：\n",
    "    - def 函数名（参数）：\n",
    "        - 语句块（缩进）\n",
    "        - return （缩进）"
   ]
  },
  {
   "cell_type": "markdown",
   "metadata": {},
   "source": [
    "# 函数的参数和返回值\n",
    "- 参数：给函数传递一些必要的数据或者信息\n",
    "    - 形参（形式参数）：定义函数时用到的参数，只是占位，没有具体值\n",
    "    - 实参（实际参数）：在调用函数时输入的值\n",
    "- 返回值：调用函数时的一个执行结果\n",
    "    - 在不存在返回值时，python默认返回一个None\n",
    "    - 推荐若函数无返回值则使用return None"
   ]
  },
  {
   "cell_type": "code",
   "execution_count": 3,
   "metadata": {},
   "outputs": [
    {
     "name": "stdout",
     "output_type": "stream",
     "text": [
      "小明,你好吗\n",
      "小明,你看见我家晓静了吗\n"
     ]
    }
   ],
   "source": [
    "# 形参和实参的案例\n",
    "# 参数person只是一个符号\n",
    "# 调用时调用另一个\n",
    "def hello(person):\n",
    "    print(\"{0},你好吗\".format(person))\n",
    "    print(\"{},你看见我家晓静了吗\".format(person))\n",
    "hello(\"小明\")\n",
    "#此时，person就是形参，“小明”就是实参"
   ]
  },
  {
   "cell_type": "code",
   "execution_count": 5,
   "metadata": {},
   "outputs": [
    {
     "name": "stdout",
     "output_type": "stream",
     "text": [
      "大拿哥,你好吗\n",
      "大拿哥,你看见我家晓静了吗\n",
      "None\n"
     ]
    }
   ],
   "source": [
    "# 返回值\n",
    "pp = hello(\"大拿哥\")\n",
    "print(pp)  #此时我们定义的hello函数不存在返回值，但是python默认返回了一个None"
   ]
  },
  {
   "cell_type": "code",
   "execution_count": 17,
   "metadata": {},
   "outputs": [
    {
     "name": "stdout",
     "output_type": "stream",
     "text": [
      "Help on built-in function print in module builtins:\n",
      "\n",
      "print(...)\n",
      "    print(value, ..., sep=' ', end='\\n', file=sys.stdout, flush=False)\n",
      "    \n",
      "    Prints the values to a stream, or to sys.stdout by default.\n",
      "    Optional keyword arguments:\n",
      "    file:  a file-like object (stream); defaults to the current sys.stdout.\n",
      "    sep:   string inserted between values, default a space.\n",
      "    end:   string appended after the last value, default a newline.\n",
      "    flush: whether to forcibly flush the stream.\n",
      "\n"
     ]
    }
   ],
   "source": [
    "help(print)"
   ]
  },
  {
   "cell_type": "code",
   "execution_count": 25,
   "metadata": {},
   "outputs": [
    {
     "name": "stdout",
     "output_type": "stream",
     "text": [
      "1 \n",
      "2 4 \n",
      "3 6 9 \n",
      "4 8 12 16 \n",
      "5 10 15 20 25 \n",
      "6 12 18 24 30 36 \n",
      "7 14 21 28 35 42 49 \n",
      "8 16 24 32 40 48 56 64 \n",
      "9 18 27 36 45 54 63 72 81 \n"
     ]
    }
   ],
   "source": [
    "# version1:九九乘法表\n",
    "def jiujiu():\n",
    "#     for i in range(1,10):\n",
    "#         for j in range(1:i+1):\n",
    "#             print(i * j ,end= \" \")\n",
    "#         print()\n",
    "    m = [1,2,3,4,5,6,7,8,9]\n",
    "    for i in m:\n",
    "        j = 1\n",
    "        while j <= i:\n",
    "            print(i * j,end = ' ')\n",
    "            j = j + 1\n",
    "        print()#另外由于print自身具备换行的因素，所以直接print就可以表示换行\n",
    "mul()\n",
    "# 怎么解决换行的问题？？？？？？？？  使用print的end参数控制，因为print自动使用换行符作为end,可以使用“”作为end控制"
   ]
  },
  {
   "cell_type": "code",
   "execution_count": 34,
   "metadata": {},
   "outputs": [
    {
     "name": "stdout",
     "output_type": "stream",
     "text": [
      "1 \n",
      "2 4 \n",
      "3 6 9 \n",
      "4 8 12 16 \n",
      "5 10 15 20 25 \n",
      "6 12 18 24 30 36 \n",
      "7 14 21 28 35 42 49 \n",
      "8 16 24 32 40 48 56 64 \n",
      "9 18 27 36 45 54 63 72 81 \n"
     ]
    }
   ],
   "source": [
    "# 改造上面的函数\n",
    "def printLine(L):\n",
    "    '''\n",
    "    打印一行九九乘法表\n",
    "    '''\n",
    "    for i in range(1,L + 1):\n",
    "        print(i * L,end = \" \")   \n",
    "\n",
    "def jiujiu2():\n",
    "    for i in range(1,10):\n",
    "        printLine(i)\n",
    "        print()\n",
    "jiujiu2()"
   ]
  },
  {
   "cell_type": "markdown",
   "metadata": {},
   "source": []
  },
  {
   "cell_type": "markdown",
   "metadata": {},
   "source": [
    "# 参数详解\n",
    "- 参数分类\n",
    "    - 普通参数\n",
    "    - 默认参数:def agesort(sextual = man)\n",
    "    - 关键字参数: 指的是调用参数时使用age = 18,顺序可以打乱\n",
    "    - 收集参数"
   ]
  },
  {
   "cell_type": "code",
   "execution_count": 40,
   "metadata": {},
   "outputs": [
    {
     "name": "stdout",
     "output_type": "stream",
     "text": [
      "我叫18，我武欢欢岁了，我来自陕西\n",
      "我叫武欢欢，我18岁了，我来自陕西\n"
     ]
    }
   ],
   "source": [
    "def introduction(name,age,address):\n",
    "    print(\"我叫{}，我{}岁了，我来自{}\".format(name,age,address))\n",
    "\n",
    "name = \"武欢欢\"\n",
    "age = \"18\"\n",
    "address = \"陕西\"\n",
    "introduction(age,name,address)  #默认参数不改变参数的传入顺序\n",
    "introduction(age=age,name=name,address=address) #关键字参数可以打乱顺序传入"
   ]
  },
  {
   "cell_type": "markdown",
   "metadata": {},
   "source": [
    "# 收集参数\n",
    "- 把没有位置，不能和定义时的位置相对应的参数，放入一个特定的数据结构中\n",
    "- 语法\n",
    "        def func(*args):\n",
    "            func_body\n",
    "            可以按照list的方式访问args得到传入的参数\n",
    "        调用：\n",
    "        func(p1,p2,p3,...)\n",
    "- 参数名称不一定是args，一般约定俗成是args\n",
    "- 参数名前需要存在一个星号，表明这是一个收集参数\n",
    "- 收集参数可以与其他参数并存"
   ]
  },
  {
   "cell_type": "code",
   "execution_count": 56,
   "metadata": {},
   "outputs": [
    {
     "name": "stdout",
     "output_type": "stream",
     "text": [
      "hello 大家好，我自我介绍下，简单说两句：\n",
      "<class 'tuple'>\n",
      "武欢欢 18 武汉 单身 \n",
      "hello 大家好，我自我介绍下，简单说两句：\n",
      "<class 'tuple'>\n",
      "武云 19 \n",
      "hello 大家好，我自我介绍下，简单说两句：\n",
      "<class 'tuple'>\n",
      "\n"
     ]
    }
   ],
   "source": [
    "# 收集参数代码\n",
    "# 模拟一个学生进行自我介绍，不清楚学生会介绍什么\n",
    "def stu(*args):   #这里args里面的内容直接作为一个tuple存在,直接用for循环遍历\n",
    "    print(\"hello 大家好，我自我介绍下，简单说两句：\")\n",
    "    print(type(args))\n",
    "    for item in args:\n",
    "        print(item,end=\" \")\n",
    "    print()\n",
    "stu(\"武欢欢\",18,\"武汉\",\"单身\")\n",
    "\n",
    "stu(\"武云\",\"19\")\n",
    "\n",
    "stu()"
   ]
  },
  {
   "cell_type": "code",
   "execution_count": 57,
   "metadata": {},
   "outputs": [
    {
     "ename": "TypeError",
     "evalue": "stu() got an unexpected keyword argument 'name'",
     "output_type": "error",
     "traceback": [
      "\u001b[1;31m---------------------------------------------------------------------------\u001b[0m",
      "\u001b[1;31mTypeError\u001b[0m                                 Traceback (most recent call last)",
      "\u001b[1;32m<ipython-input-57-4e7504436faa>\u001b[0m in \u001b[0;36m<module>\u001b[1;34m\u001b[0m\n\u001b[0;32m      1\u001b[0m \u001b[1;31m# 如果收集参数选择关键字参数格式，则会报错\u001b[0m\u001b[1;33m\u001b[0m\u001b[1;33m\u001b[0m\u001b[1;33m\u001b[0m\u001b[0m\n\u001b[1;32m----> 2\u001b[1;33m \u001b[0mstu\u001b[0m\u001b[1;33m(\u001b[0m\u001b[0mname\u001b[0m\u001b[1;33m=\u001b[0m\u001b[1;34m\"wuhuanhuan\"\u001b[0m\u001b[1;33m)\u001b[0m\u001b[1;33m\u001b[0m\u001b[1;33m\u001b[0m\u001b[0m\n\u001b[0m",
      "\u001b[1;31mTypeError\u001b[0m: stu() got an unexpected keyword argument 'name'"
     ]
    }
   ],
   "source": [
    "# 如果使用关键字参数格式调用，则会报错\n",
    "stu(name=\"wuhuanhuan\")"
   ]
  },
  {
   "cell_type": "markdown",
   "metadata": {},
   "source": [
    "# 收集参数之关键字收集参数\n",
    "- 把关键字参数按照字典格式存入收集参数\n",
    "- 语法：\n",
    "        def func(**kargs):\n",
    "            func_body\n",
    "        # 调用：\n",
    "        func(p1=y1,p2=y2,....)\n",
    "- 访问时把多余的关键字参数放入kargs\n",
    "- 访问kargs要使用字典格式"
   ]
  },
  {
   "cell_type": "code",
   "execution_count": 73,
   "metadata": {},
   "outputs": [
    {
     "name": "stdout",
     "output_type": "stream",
     "text": [
      "hello 大家好，我自我介绍下，简单说两句：\n",
      "<class 'dict'>\n",
      "name .... 武欢欢\n",
      "age .... 18\n",
      "address .... 武汉\n",
      "marrage .... 单身\n",
      "\n",
      "*************************\n",
      "hello 大家好，我自我介绍下，简单说两句：\n",
      "<class 'dict'>\n",
      "name .... 武云\n",
      "age .... 19\n",
      "\n"
     ]
    }
   ],
   "source": [
    "# \n",
    "def stu(**kargs):\n",
    "    print(\"hello 大家好，我自我介绍下，简单说两句：\")\n",
    "    print(type(kargs))\n",
    "    #对于字典的访问\n",
    "    for k,v in kargs.items():\n",
    "        print(k,\"....\",v)\n",
    "    print()\n",
    "stu(name=\"武欢欢\",age=18,address=\"武汉\",marrage=\"单身\")\n",
    "print(\"*************************\")\n",
    "stu(name=\"武云\",age=\"19\")\n"
   ]
  },
  {
   "cell_type": "markdown",
   "metadata": {},
   "source": [
    "# 收集参数混合调用的问题\n",
    "- 收集参数，关键字参数，普通参数可以混合调用\n",
    "- 顺序：普通参数、关键字参数、收集参数tuple、收集参数dict"
   ]
  },
  {
   "cell_type": "code",
   "execution_count": 91,
   "metadata": {},
   "outputs": [
    {
     "name": "stdout",
     "output_type": "stream",
     "text": [
      "hello 大家好，我自我介绍下，简单说两句：\n",
      "我叫武欢欢，我18岁了\n",
      "我没有爱好\n",
      "**************************************************\n",
      "##################################################\n",
      "hello 大家好，我自我介绍下，简单说两句：\n",
      "我叫武欢欢，我18岁了\n",
      "我的爱好是唱歌\n",
      "**************************************************\n",
      "我有男朋友\n",
      "##################################################\n",
      "hobby1 .... 跳舞\n",
      "hobby2 .... 读书\n",
      "address .... 武汉\n",
      "marrage .... 单身\n",
      "hello 大家好，我自我介绍下，简单说两句：\n",
      "我叫武云，我19岁了\n",
      "我没有爱好\n",
      "**************************************************\n",
      "##################################################\n"
     ]
    }
   ],
   "source": [
    "# 混合调用的案例,特别注意参数的放置顺序\n",
    "def stu(name,age,*args,hobby=\"没有\",**kargs):\n",
    "    print(\"hello 大家好，我自我介绍下，简单说两句：\")\n",
    "    print(\"我叫{}，我{}岁了\".format(name,age))\n",
    "    if hobby==\"没有\":\n",
    "        print(\"我没有爱好\")\n",
    "    else:\n",
    "        print(\"我的爱好是{}\".format(hobby))\n",
    "    print(\"*\"*50)\n",
    "    # 访问tuple\n",
    "    for items in args:\n",
    "        print(items)\n",
    "    print(\"#\"*50)\n",
    "    #对于字典的访问\n",
    "    for k,v in kargs.items():\n",
    "        print(k,\"....\",v)\n",
    "stu(\"武欢欢\",18)\n",
    "stu(\"武欢欢\",18,\"我有男朋友\",hobby=\"唱歌\",hobby1=\"跳舞\",hobby2=\"读书\",address=\"武汉\",marrage=\"单身\")\n",
    "stu(name=\"武云\",age=\"19\")"
   ]
  },
  {
   "cell_type": "markdown",
   "metadata": {},
   "source": [
    "# 收集参数的解包问题\n",
    "- 把形参放入list或者字典中，直接把list或者dict中的值放入收集参数中\n",
    "- 语法：参看案例\n",
    "- tuple或者list解包时采用一个星号*\n",
    "- dict使用两个星号解包"
   ]
  },
  {
   "cell_type": "code",
   "execution_count": 111,
   "metadata": {},
   "outputs": [
    {
     "name": "stdout",
     "output_type": "stream",
     "text": [
      "哈哈哈哈\n",
      "<class 'list'>\n",
      "0\n",
      "['liuying', 19, 200]\n",
      "哈哈哈哈\n",
      "<class 'str'>\n",
      "0\n",
      "liuying\n",
      "<class 'int'>\n",
      "1\n",
      "19\n",
      "<class 'int'>\n",
      "2\n",
      "200\n",
      "哈哈哈哈\n",
      "<class 'str'>\n",
      "0\n",
      "liuying\n",
      "<class 'int'>\n",
      "1\n",
      "19\n",
      "<class 'int'>\n",
      "2\n",
      "200\n"
     ]
    }
   ],
   "source": [
    "def stu(*args):\n",
    "    print(\"哈哈哈哈\")\n",
    "    n = 0\n",
    "    for i in args:\n",
    "        print(type(i))\n",
    "        print(n)\n",
    "        n = n + 1\n",
    "        print(i)\n",
    "l=list()\n",
    "l.append(\"liuying\")\n",
    "l.append(19)\n",
    "l.append(200)\n",
    "stu(l) #此时agrs的表示形式是字典内的一个list类型的元素，即args={[\"liuying\",19,200],}\n",
    "stu(*l) #就需要解包，调用前加一个星号\n",
    "l1 = (\"liuying\",19,200)\n",
    "stu(*l1)"
   ]
  },
  {
   "cell_type": "markdown",
   "metadata": {},
   "source": [
    "# 函数文档\n",
    "- 函数的文档的作用是对当前函数提供使用相关的参考信息\n",
    "- 文档的写法：\n",
    "    - 在函数内部开始的第一行使用三引号字符串定义符\n",
    "    - 一般具有特定格式\n",
    "    - 参看案例\n",
    "- 文档查看\n",
    "    - 使用help函数，形如 help(func)\n",
    "    - 使用doc, 参看案例"
   ]
  },
  {
   "cell_type": "code",
   "execution_count": 117,
   "metadata": {},
   "outputs": [],
   "source": [
    "def stu(name,age,*args):\n",
    "    '''\n",
    "    这是文档\n",
    "    :param name: 表示学生的姓名\n",
    "    :param age: 表示学生的年龄\n",
    "    :return: 此函数没有返回值\n",
    "    '''\n",
    "    pass"
   ]
  },
  {
   "cell_type": "code",
   "execution_count": 120,
   "metadata": {
    "scrolled": true
   },
   "outputs": [
    {
     "name": "stdout",
     "output_type": "stream",
     "text": [
      "Help on function stu in module __main__:\n",
      "\n",
      "stu(name, age)\n",
      "    这是文档的文字内容\n",
      "    :param name: 表示学生的姓名\n",
      "    :param age: 表示学生的年龄\n",
      "    :return: 此函数没有返回值\n",
      "\n",
      "\n",
      "    这是文档的文字内容\n",
      "    :param name: 表示学生的姓名\n",
      "    :param age: 表示学生的年龄\n",
      "    :return: 此函数没有返回值\n",
      "    \n"
     ]
    }
   ],
   "source": [
    "#查看函数文档\n",
    "help(stu)\n",
    "print(stu.__doc__)"
   ]
  }
 ],
 "metadata": {
  "kernelspec": {
   "display_name": "Python 3",
   "language": "python",
   "name": "python3"
  },
  "language_info": {
   "codemirror_mode": {
    "name": "ipython",
    "version": 3
   },
   "file_extension": ".py",
   "mimetype": "text/x-python",
   "name": "python",
   "nbconvert_exporter": "python",
   "pygments_lexer": "ipython3",
   "version": "3.7.1"
  }
 },
 "nbformat": 4,
 "nbformat_minor": 2
}
