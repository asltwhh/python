{
 "cells": [
  {
   "cell_type": "markdown",
   "metadata": {},
   "source": [
    "# 集合-set\n",
    "- 集合是高中数学中的一个概念\n",
    "- 一堆确定的、无序的、唯一的数据，集合中每一个数据称为一个元素"
   ]
  },
  {
   "cell_type": "code",
   "execution_count": 4,
   "metadata": {},
   "outputs": [
    {
     "name": "stdout",
     "output_type": "stream",
     "text": [
      "<class 'set'>\n",
      "set()\n",
      "<class 'set'>\n",
      "{1, 2, 3, 4, 5, 6, 7}\n"
     ]
    }
   ],
   "source": [
    "s= set()\n",
    "print(type(s))\n",
    "print(s)\n",
    "\n",
    "s = {1,2,3,4,5,6,7} #大括号内一定要有值，否则定义得到的是一个字典形式\n",
    "print(type(s))\n",
    "print(s)"
   ]
  },
  {
   "cell_type": "code",
   "execution_count": 2,
   "metadata": {},
   "outputs": [
    {
     "name": "stdout",
     "output_type": "stream",
     "text": [
      "<class 'dict'>\n",
      "{}\n"
     ]
    }
   ],
   "source": [
    "# 如果只是用大括号定义则定义的是一个dict类型\n",
    "d = {}\n",
    "print(type(d))\n",
    "print(d)"
   ]
  },
  {
   "cell_type": "markdown",
   "metadata": {},
   "source": [
    "# 集合的特征\n",
    "- 集合的数据无序，不存在索引和分片\n",
    "- 数据具备唯一性，可以排除重复数据\n",
    "- 集合内可以放置str,int,float,tuple,冰冻集合（后面有介绍）等，具体就是一些可哈希的数据"
   ]
  },
  {
   "cell_type": "markdown",
   "metadata": {},
   "source": [
    "# 集合序列操作\n",
    "- 成员检测： in\n",
    "- 遍历：for循环\n",
    "- 嵌套tuple的遍历：for k,v,n,...(具体取决于内含tuple的元素个数，并且个数必须相同） in set"
   ]
  },
  {
   "cell_type": "markdown",
   "metadata": {},
   "source": [
    "# 集合的内涵"
   ]
  },
  {
   "cell_type": "code",
   "execution_count": 9,
   "metadata": {},
   "outputs": [
    {
     "name": "stdout",
     "output_type": "stream",
     "text": [
      "{1, 2, 3, 4, 5}\n",
      "{1, 2, 3, 4, 5}\n"
     ]
    }
   ],
   "source": [
    "s = {1,2,3,4,5,4,3,2,1}\n",
    "print(s) #自动过滤掉重复的元素\n",
    "\n",
    "# 普通集合内涵 ,和list一样，可以多循环，带条件\n",
    "ss = {i for i in s}\n",
    "print(ss)"
   ]
  },
  {
   "cell_type": "markdown",
   "metadata": {},
   "source": [
    "# 集合的函数\n",
    "- len \n",
    "- max\n",
    "- min \n",
    "- 转换list为集合： l= [1,2,3,4] s = set(l)\n",
    "- add:向集合中添加元素\n",
    "- clear:原地清空数据，保留地址\n",
    "- copy:\n",
    "- remove:移除指定的元素，如果该set中包含要删除的值，会报错\n",
    "- discard:移除集合中指定的值,和remove一样，但是如果该set中不包含要删除的值，不会报错\n",
    "- pop：随机移除一个数"
   ]
  },
  {
   "cell_type": "markdown",
   "metadata": {},
   "source": [
    "# 集合函数\n",
    "- 交集：intersection\n",
    "- 差集：difference\n",
    "- 并集：union\n",
    "- issubset:检查一个集合是否为另一个集合的子集\n",
    "- issuperset:检查一个集合是否会是另一个超集\n",
    "- 集合的数学操作：\n",
    "    - 集合之间可以进行加或者减法：s1 + s2; s1 - s2"
   ]
  },
  {
   "cell_type": "code",
   "execution_count": 10,
   "metadata": {},
   "outputs": [
    {
     "name": "stdout",
     "output_type": "stream",
     "text": [
      "{3, 4, 5, 6}\n"
     ]
    }
   ],
   "source": [
    "s1 = {1,2,3,4,5,6}\n",
    "s2 = {3,4,5,6,7,8}\n",
    "s3 = s1.intersection(s2)\n",
    "print(s3)"
   ]
  },
  {
   "cell_type": "markdown",
   "metadata": {},
   "source": [
    "# 冰冻集合\n",
    "- 指的就是不可以进行任何修改的集合\n",
    "- frozenset是一种特殊的集合，不可以进行更改，其他和普通的集合一致"
   ]
  },
  {
   "cell_type": "code",
   "execution_count": 12,
   "metadata": {},
   "outputs": [
    {
     "name": "stdout",
     "output_type": "stream",
     "text": [
      "<class 'frozenset'>\n",
      "frozenset()\n"
     ]
    }
   ],
   "source": [
    "s = frozenset()\n",
    "print(type(s))\n",
    "print(s)"
   ]
  }
 ],
 "metadata": {
  "kernelspec": {
   "display_name": "Python 3",
   "language": "python",
   "name": "python3"
  },
  "language_info": {
   "codemirror_mode": {
    "name": "ipython",
    "version": 3
   },
   "file_extension": ".py",
   "mimetype": "text/x-python",
   "name": "python",
   "nbconvert_exporter": "python",
   "pygments_lexer": "ipython3",
   "version": "3.7.1"
  }
 },
 "nbformat": 4,
 "nbformat_minor": 2
}
