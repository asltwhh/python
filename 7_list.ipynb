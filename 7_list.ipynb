{
 "cells": [
  {
   "cell_type": "markdown",
   "metadata": {},
   "source": [
    "# list列表\n",
    "- 一组由有序(先后顺序）数据组成的序列\n",
    "    - 数据存在先后顺序\n",
    "    - 数据可以不是一类\n",
    "- list的创建\n",
    "    - 中括号创建，内容用逗号隔开\n",
    "    - 使用list创建"
   ]
  },
  {
   "cell_type": "code",
   "execution_count": 30,
   "metadata": {},
   "outputs": [
    {
     "name": "stdout",
     "output_type": "stream",
     "text": [
      "<class 'list'>\n",
      "[]\n",
      "[1, 2, 3, 4, 5]\n",
      "[1, 2, 3, 'abc', '大拿']\n",
      "[1, 2]\n"
     ]
    }
   ],
   "source": [
    "#创建空列表\n",
    "##方式1\n",
    "l = []\n",
    "print(type(l))\n",
    "\n",
    "##方式2\n",
    "l1 = list()\n",
    "print(l1)\n",
    "\n",
    "#创建带值的列表\n",
    "##方式1\n",
    "L1 = [1,2,3,4,5]\n",
    "L2 = [1,2,3,\"abc\",\"大拿\"]\n",
    "\n",
    "print(L1)\n",
    "print(L2)\n",
    "\n",
    "##方式2\n",
    "l3 = list()\n",
    "l3.append(1)\n",
    "l3.append(2)\n",
    "print(l3)"
   ]
  },
  {
   "cell_type": "code",
   "execution_count": null,
   "metadata": {},
   "outputs": [],
   "source": [
    "#内置函数\n",
    "- help:帮助函数\n",
    "- type:显示变量的类型\n",
    "- id:显示变量的id,判断两个变量是否为一个变量\n",
    "- print"
   ]
  },
  {
   "cell_type": "code",
   "execution_count": 8,
   "metadata": {},
   "outputs": [
    {
     "name": "stdout",
     "output_type": "stream",
     "text": [
      "['liu dana']\n",
      "<class 'list'>\n",
      "['l', 'i', 'u', ' ', 'd', 'a', 'n', 'a']\n",
      "<class 'list'>\n"
     ]
    }
   ],
   "source": [
    "# list创建的特例演示\n",
    "s = \"liu dana\"\n",
    "#想创建一个仅包含L1一个字符串的列表\n",
    "L1 = [s]\n",
    "print(L1)\n",
    "print(type(L1))\n",
    "\n",
    "L2 = list(s) #此时该字符串被切割了\n",
    "print(L2)\n",
    "print(type(L2))"
   ]
  },
  {
   "cell_type": "markdown",
   "metadata": {},
   "source": [
    "# 关于列表的常见操作\n",
    "- 访问\n",
    "    - 使用index,从0开始\n",
    "- 切片\n",
    "    - 对列表进行任意段的截取\n",
    "    - 截取之后创建一个新列表\n",
    "    - 左包含右不包含\n",
    "    - 切片的下表可以为空 eg:L1[:4] 代表[0:4]； [2:]代表[2:len(L1)] [:]代表[0:len(L1)] ，这样的操作默认从左向右,步长为1，num=1\n",
    "    - 切片可以控制增长的增幅num，隔几个分片 [::num]\n",
    "    - 下标可以超出索引范围，超出后不再考虑多余下标内容，不会报错\n",
    "    - 下标可以为负数，表明切片顺序从右往左\n",
    "    - 数组的最后一个数字的下标为-1"
   ]
  },
  {
   "cell_type": "code",
   "execution_count": 12,
   "metadata": {},
   "outputs": [
    {
     "name": "stdout",
     "output_type": "stream",
     "text": [
      "5456\n"
     ]
    }
   ],
   "source": [
    "L1 = [32,234,5456,657]\n",
    "#打印其中某一个元素，使用index ,当索引超出范围，就会出现indexError\n",
    "print(L1[2])"
   ]
  },
  {
   "cell_type": "code",
   "execution_count": 25,
   "metadata": {},
   "outputs": [
    {
     "name": "stdout",
     "output_type": "stream",
     "text": [
      "[2, 3, 4, 5, 6]\n",
      "1395921376776\n",
      "1395922231688\n",
      "[1, 3, 5, 7, 9]\n",
      "[10, 8, 6, 4, 2]\n",
      "[9, 8, 7]\n",
      "[7, 8, 9]\n"
     ]
    }
   ],
   "source": [
    "#切片操作：左包含右不包含\n",
    "L1 = [1,2,3,4,5,6,7,8,9,10]\n",
    "L2 = L1[1:6]\n",
    "print(L2)\n",
    "print(id(L1))  #两个列表的id不同，表明两个列表指代两个变量\n",
    "print(id(L2))\n",
    "\n",
    "#增幅\n",
    "print(L1[::2])\n",
    "\n",
    "#下标可以为负数\n",
    "print(L1[::-2])\n",
    "\n",
    "print(L1[-2:-5:-1]) #倒序输出\n",
    "print(L1[-4:-1:1])  #正序输出"
   ]
  },
  {
   "cell_type": "markdown",
   "metadata": {},
   "source": [
    "# 汉诺塔问题\n",
    "- 每次只能移动一个盘子\n",
    "- 大盘子不能放在小盘子上面\n",
    "- 算法思想：\n",
    "    - n =1 :直接从A移到C\n",
    "    - n =2:\n",
    "        - 把小盘子从A移到B\n",
    "        - 把大盘子从A移到C\n",
    "        - 把小盘子从B移到C\n",
    "    - n = 3\n",
    "        - 把上面的两个小盘子，借助于C，从A移到B\n",
    "        - 把最大的盘子从A移到C\n",
    "        - 把两个小盘子，借助于A，从B移到C\n",
    "    - n = n\n",
    "        - 把上面的 n-1 个小盘子，借助于C，从A移到B\n",
    "        - 把最大的盘子从A移到C\n",
    "        - 把 n-1 小盘子，借助于A，从B移到C"
   ]
  },
  {
   "cell_type": "code",
   "execution_count": 43,
   "metadata": {},
   "outputs": [
    {
     "name": "stdout",
     "output_type": "stream",
     "text": [
      "a  -->  c\n",
      "a  -->  b\n",
      "c  -->  b\n",
      "a  -->  c\n",
      "b  -->  a\n",
      "b  -->  c\n",
      "a  -->  c\n"
     ]
    }
   ],
   "source": [
    "def hannuota(n,A,B,C):\n",
    "    if n==1:\n",
    "        print(A,' --> ',C)\n",
    "        return None\n",
    "    hannuota(n-1,A,C,B)\n",
    "    print(A,' --> ',C)\n",
    "    hannuota(n-1,B,A,C)\n",
    "A = \"a\"\n",
    "B = \"b\"\n",
    "C = \"c\"\n",
    "hannuota(3,A,B,C)"
   ]
  },
  {
   "cell_type": "markdown",
   "metadata": {},
   "source": [
    "# 删除del\n",
    "- del L1[index]  删除前后列表的id不变"
   ]
  },
  {
   "cell_type": "code",
   "execution_count": 51,
   "metadata": {},
   "outputs": [
    {
     "name": "stdout",
     "output_type": "stream",
     "text": [
      "1395926749640\n",
      "[1, 2, 4, 5]\n",
      "1395926749640\n"
     ]
    },
    {
     "ename": "NameError",
     "evalue": "name 'L1' is not defined",
     "output_type": "error",
     "traceback": [
      "\u001b[1;31m---------------------------------------------------------------------------\u001b[0m",
      "\u001b[1;31mNameError\u001b[0m                                 Traceback (most recent call last)",
      "\u001b[1;32m<ipython-input-51-083cfe4d04b3>\u001b[0m in \u001b[0;36m<module>\u001b[1;34m\u001b[0m\n\u001b[0;32m      6\u001b[0m \u001b[1;33m\u001b[0m\u001b[0m\n\u001b[0;32m      7\u001b[0m \u001b[1;32mdel\u001b[0m \u001b[0mL1\u001b[0m\u001b[1;33m\u001b[0m\u001b[1;33m\u001b[0m\u001b[0m\n\u001b[1;32m----> 8\u001b[1;33m \u001b[0mprint\u001b[0m\u001b[1;33m(\u001b[0m\u001b[0mL1\u001b[0m\u001b[1;33m)\u001b[0m \u001b[1;31m#del一个变量后，在内存空间中该变量即不存在\u001b[0m\u001b[1;33m\u001b[0m\u001b[1;33m\u001b[0m\u001b[0m\n\u001b[0m",
      "\u001b[1;31mNameError\u001b[0m: name 'L1' is not defined"
     ]
    }
   ],
   "source": [
    "L1 = [1,2,3,4,5]\n",
    "print(id(L1))\n",
    "del L1[2]  #原地删除\n",
    "print(L1)\n",
    "print(id(L1))\n",
    "\n",
    "del L1\n",
    "print(L1) #del一个变量后，在内存空间中该变量即不存在"
   ]
  },
  {
   "cell_type": "markdown",
   "metadata": {},
   "source": [
    "# 列表之间使用+连接"
   ]
  },
  {
   "cell_type": "code",
   "execution_count": 52,
   "metadata": {},
   "outputs": [
    {
     "name": "stdout",
     "output_type": "stream",
     "text": [
      "[1, 2, 3, 'wu', 'huan', 'huan']\n"
     ]
    }
   ],
   "source": [
    "a = [1,2,3]\n",
    "b = [\"wu\",\"huan\",\"huan\"]\n",
    "c = a+b\n",
    "print(c)"
   ]
  },
  {
   "cell_type": "markdown",
   "metadata": {},
   "source": [
    "# 列表*整数n,表示n个列表相连接，产生一个长度为n*len(列表）的新列表"
   ]
  },
  {
   "cell_type": "code",
   "execution_count": 54,
   "metadata": {},
   "outputs": [
    {
     "name": "stdout",
     "output_type": "stream",
     "text": [
      "[1, 2, 3, 4, 1, 2, 3, 4, 1, 2, 3, 4, 1, 2, 3, 4, 1, 2, 3, 4, 1, 2, 3, 4, 1, 2, 3, 4, 1, 2, 3, 4, 1, 2, 3, 4, 1, 2, 3, 4]\n"
     ]
    }
   ],
   "source": [
    "a = [1,2,3,4]\n",
    "b = a*10\n",
    "print(b)"
   ]
  },
  {
   "cell_type": "markdown",
   "metadata": {},
   "source": [
    "# 成员操作符is\n",
    "- 判断一个元素是否在列表中"
   ]
  },
  {
   "cell_type": "code",
   "execution_count": 57,
   "metadata": {},
   "outputs": [
    {
     "name": "stdout",
     "output_type": "stream",
     "text": [
      "True\n"
     ]
    }
   ],
   "source": [
    "a = [1,2,3,4,5]\n",
    "b = 3\n",
    "c = b in a\n",
    "print(c)"
   ]
  },
  {
   "cell_type": "markdown",
   "metadata": {},
   "source": [
    "# 链表的遍历\n",
    "- for\n",
    "- while"
   ]
  },
  {
   "cell_type": "code",
   "execution_count": 64,
   "metadata": {},
   "outputs": [
    {
     "name": "stdout",
     "output_type": "stream",
     "text": [
      "1\n",
      "2\n",
      "3\n",
      "4\n",
      "**************************************************\n",
      "1\n",
      "2\n",
      "3\n",
      "4\n"
     ]
    }
   ],
   "source": [
    "a = [1,2,3,4]\n",
    "for i in a:\n",
    "    print(i)\n",
    "print('*'*50)\n",
    "j = 0\n",
    "while j < len(a):\n",
    "    print(a[j])\n",
    "    j += 1"
   ]
  },
  {
   "cell_type": "code",
   "execution_count": 76,
   "metadata": {},
   "outputs": [
    {
     "name": "stdout",
     "output_type": "stream",
     "text": [
      "one ---> 1\n",
      "two ---> 2\n",
      "three ---> 3\n",
      "**************************\n",
      "one ---> 1 ---> dsdfd ---> wew\n",
      "two ---> 2 ---> sdhjsdh ---> 34\n",
      "three ---> 3 ---> 32 ---> 5\n",
      "**************************\n"
     ]
    },
    {
     "ename": "ValueError",
     "evalue": "not enough values to unpack (expected 4, got 3)",
     "output_type": "error",
     "traceback": [
      "\u001b[1;31m---------------------------------------------------------------------------\u001b[0m",
      "\u001b[1;31mValueError\u001b[0m                                Traceback (most recent call last)",
      "\u001b[1;32m<ipython-input-76-6b0a895c4833>\u001b[0m in \u001b[0;36m<module>\u001b[1;34m\u001b[0m\n\u001b[0;32m     18\u001b[0m \u001b[0ma1\u001b[0m \u001b[1;33m=\u001b[0m \u001b[1;33m[\u001b[0m\u001b[1;33m[\u001b[0m\u001b[1;34m\"one\"\u001b[0m\u001b[1;33m,\u001b[0m\u001b[1;36m1\u001b[0m\u001b[1;33m,\u001b[0m\u001b[1;34m\"dsdfd\"\u001b[0m\u001b[1;33m]\u001b[0m\u001b[1;33m,\u001b[0m\u001b[1;33m[\u001b[0m\u001b[1;34m\"two\"\u001b[0m\u001b[1;33m,\u001b[0m\u001b[1;36m2\u001b[0m\u001b[1;33m,\u001b[0m\u001b[1;34m\"sdhjsdh\"\u001b[0m\u001b[1;33m,\u001b[0m\u001b[1;34m'34'\u001b[0m\u001b[1;33m]\u001b[0m\u001b[1;33m,\u001b[0m\u001b[1;33m[\u001b[0m\u001b[1;34m\"three\"\u001b[0m\u001b[1;33m,\u001b[0m\u001b[1;36m3\u001b[0m\u001b[1;33m]\u001b[0m\u001b[1;33m]\u001b[0m\u001b[1;33m\u001b[0m\u001b[1;33m\u001b[0m\u001b[0m\n\u001b[0;32m     19\u001b[0m \u001b[1;31m#不能再用k,v表示\u001b[0m\u001b[1;33m\u001b[0m\u001b[1;33m\u001b[0m\u001b[1;33m\u001b[0m\u001b[0m\n\u001b[1;32m---> 20\u001b[1;33m \u001b[1;32mfor\u001b[0m \u001b[0mk\u001b[0m\u001b[1;33m,\u001b[0m\u001b[0mv\u001b[0m\u001b[1;33m,\u001b[0m\u001b[0mw\u001b[0m\u001b[1;33m,\u001b[0m\u001b[0mt\u001b[0m \u001b[1;32min\u001b[0m \u001b[0ma1\u001b[0m\u001b[1;33m:\u001b[0m\u001b[1;33m\u001b[0m\u001b[1;33m\u001b[0m\u001b[0m\n\u001b[0m\u001b[0;32m     21\u001b[0m     \u001b[0mprint\u001b[0m\u001b[1;33m(\u001b[0m\u001b[0mk\u001b[0m\u001b[1;33m,\u001b[0m\u001b[1;34m'--->'\u001b[0m\u001b[1;33m,\u001b[0m\u001b[0mv\u001b[0m\u001b[1;33m,\u001b[0m\u001b[1;34m'--->'\u001b[0m\u001b[1;33m,\u001b[0m\u001b[0mw\u001b[0m\u001b[1;33m,\u001b[0m\u001b[1;34m'--->'\u001b[0m\u001b[1;33m,\u001b[0m\u001b[0mt\u001b[0m\u001b[1;33m)\u001b[0m\u001b[1;33m\u001b[0m\u001b[1;33m\u001b[0m\u001b[0m\n\u001b[0;32m     22\u001b[0m \u001b[1;33m\u001b[0m\u001b[0m\n",
      "\u001b[1;31mValueError\u001b[0m: not enough values to unpack (expected 4, got 3)"
     ]
    }
   ],
   "source": [
    "# 双层列表循环\n",
    "# a为嵌套列表或者双层列表\n",
    "\n",
    "##特例，内含的每一个列表都只包含两个元素\n",
    "a = [[\"one\",1],[\"two\",2],[\"three\",3]]\n",
    "for k,v in a:  #此时才可以用k,v表示\n",
    "    print(k,'--->',v)\n",
    "print(\"**************************\")   \n",
    "\n",
    "# 内含的每一个列表都包含四个元素\n",
    "a1 = [[\"one\",1,\"dsdfd\",\"wew\"],[\"two\",2,\"sdhjsdh\",'34'],[\"three\",3,\"32\",5]]\n",
    "#不能再用k,v表示\n",
    "for k,v,w,t in a1:\n",
    "    print(k,'--->',v,'--->',w,'--->',t)\n",
    "print(\"**************************\")    \n",
    "    \n",
    "# 内含的列表包含的元素个数不同，则不能使用k,v,t,m,...打印\n",
    "a1 = [[\"one\",1,\"dsdfd\"],[\"two\",2,\"sdhjsdh\",'34'],[\"three\",3]]\n",
    "#不能再用k,v表示\n",
    "for k,v,w,t in a1:\n",
    "    print(k,'--->',v,'--->',w,'--->',t)\n",
    "    \n",
    "#### 也就是说k,v,w,t,...的个数应该和解包出来的元素个数一致"
   ]
  },
  {
   "cell_type": "markdown",
   "metadata": {},
   "source": [
    "# 列表内涵\n",
    "- 通过简单的方法制作列表"
   ]
  },
  {
   "cell_type": "code",
   "execution_count": 77,
   "metadata": {},
   "outputs": [
    {
     "name": "stdout",
     "output_type": "stream",
     "text": [
      "['a', 'b', 'c']\n"
     ]
    }
   ],
   "source": [
    "a = ['a','b','c']\n",
    "b = [i for i in a] #简易for循环\n",
    "print(b)"
   ]
  },
  {
   "cell_type": "code",
   "execution_count": 81,
   "metadata": {},
   "outputs": [
    {
     "name": "stdout",
     "output_type": "stream",
     "text": [
      "[0, 1, 2, 3, 4, 5, 6, 7, 8, 9, 10, 11, 12, 13, 14, 15, 16, 17, 18, 19, 20, 21, 22, 23, 24, 25, 26, 27, 28, 29, 30, 31, 32, 33, 34, 35]\n",
      "[0, 2, 4, 6, 8, 10, 12, 14, 16, 18, 20, 22, 24, 26, 28, 30, 32, 34]\n"
     ]
    }
   ],
   "source": [
    "a = list(range(0,36))\n",
    "print(a)\n",
    "b = [i for i in a if i%2 == 0]\n",
    "print(b)"
   ]
  },
  {
   "cell_type": "code",
   "execution_count": 85,
   "metadata": {},
   "outputs": [
    {
     "name": "stdout",
     "output_type": "stream",
     "text": [
      "[101, 201, 301, 401, 501, 601, 701, 801, 901, 102, 202, 302, 402, 502, 602, 702, 802, 902, 103, 203, 303, 403, 503, 603, 703, 803, 903]\n",
      "[101, 201, 102, 202, 103, 203]\n"
     ]
    }
   ],
   "source": [
    "# 列表生成式可以嵌套\n",
    "a = [i for i in range(1,4)]\n",
    "b = [i for i in range(100,1000) if i%100 == 0]\n",
    "c = [m+n for m in a for n in b]\n",
    "print(c)\n",
    "c1 = [m+n for m in a for n in b if m+n < 250]\n",
    "print(c1)"
   ]
  },
  {
   "cell_type": "markdown",
   "metadata": {},
   "source": [
    "# 关于列表的常用函数\n",
    "- max(l)\n",
    "- len(l)\n",
    "- min(l)\n",
    "\n",
    "# 将其他格式的数据转换为List\n",
    "\n",
    "- 能否转换为list取决于被转换的数据是否是可迭代的Iterable"
   ]
  },
  {
   "cell_type": "code",
   "execution_count": 89,
   "metadata": {},
   "outputs": [
    {
     "name": "stdout",
     "output_type": "stream",
     "text": [
      "['w', 'o', ' ', 'j', 'i', 'a', 'o', ' ', 'w', 'u', ' ', 'h', 'u', 'a', 'n', ' ', 'h', 'u', 'a', 'n']\n",
      "[1, 2, 3, 4, 5, 6, 7, 8, 9]\n",
      "[1, 2, 3, 4]\n"
     ]
    }
   ],
   "source": [
    "# 字符串转list\n",
    "l = \"wo jiao wu huan huan\" \n",
    "print(list(l)) #将字符串内的单个字母转换为列表的元素\n",
    "\n",
    "# range产生的内容转list\n",
    "print(list(range(1,10)))  #没毛病\n",
    "\n",
    "# tuple转list,没毛病\n",
    "tuple1 = (1,2,3,4)\n",
    "print(list(tuple1))"
   ]
  },
  {
   "cell_type": "markdown",
   "metadata": {},
   "source": [
    "# 传址和传值\n",
    "#### 简单变量传值，指的是在函数内部改变函数外部的变量，不会影响函数外部的变量的值\n",
    "\n",
    "#### 复杂变量传址，指的是在函数内部改变函数外部的变量，会直接改变函数外部的变量的值"
   ]
  },
  {
   "cell_type": "code",
   "execution_count": 90,
   "metadata": {},
   "outputs": [
    {
     "name": "stdout",
     "output_type": "stream",
     "text": [
      "[1, 2, 3, 4, 5, 6]\n",
      "[1, 2, 300, 4, 5, 6]\n",
      "1395926750856\n",
      "[1, 2, 300, 4, 5, 6]\n",
      "1395926750856\n",
      "9\n",
      "140730818344016\n",
      "109\n",
      "140730818347216\n",
      "9\n",
      "140730818344016\n"
     ]
    }
   ],
   "source": [
    "def a(n):\n",
    "    n[2] = 300 #直接改变了列表n的元素值\n",
    "    print(n)\n",
    "    print(id(n))\n",
    "    return None\n",
    "def b(n):\n",
    "    n += 100 #重新建立了一个变量n\n",
    "    print(n)\n",
    "    print(id(n))\n",
    "    return None\n",
    "an = [1,2,3,4,5,6]\n",
    "bn = 9\n",
    "\n",
    "print(an)\n",
    "a(an)\n",
    "print(an)  #函数内部调用列表an导致列表an的值发生了变化,此时因为函数内外使用的列表为同一地址，传址\n",
    "print(id(an))\n",
    "\n",
    "print(bn)\n",
    "print(id(bn))\n",
    "b(bn)\n",
    "print(bn)  #函数内部调用变量bn导致变量bn的值发生了变化,,此时因为函数内外使用的列表为不同地址，传值\n",
    "print(id(bn))"
   ]
  },
  {
   "cell_type": "markdown",
   "metadata": {},
   "source": [
    "# 关于列表的函数\n",
    "- del：删除，通过制定index\n",
    "- insert：指定位置插入元素\n",
    "- pop():删除列表的最后一个值 \n",
    "- remove:删除列表中制定的值\n",
    "- claer:清空,只是清空列表的内容，列表的存储位置还在\n",
    "- extend:将两个列表直接拼接在一起\n",
    "- count:查找列表中指定值或者元素的个数"
   ]
  },
  {
   "cell_type": "code",
   "execution_count": 112,
   "metadata": {},
   "outputs": [
    {
     "name": "stdout",
     "output_type": "stream",
     "text": [
      "[1, 2, 3, 4]\n",
      "[1, 2, 4]\n",
      "**************************************************\n",
      "[1, 2, 546, 4]\n",
      "**************************************************\n",
      "4\n",
      "[1, 2, 546]\n",
      "**************************************************\n",
      "[1, 2]\n",
      "**************************************************\n",
      "1395921444488\n",
      "[]\n",
      "1395921444488\n",
      "**************************************************\n",
      "[1, 2, 3, 4, 5, 6]\n",
      "**************************************************\n",
      "0\n"
     ]
    }
   ],
   "source": [
    "#del\n",
    "a = [1,2,3,4]\n",
    "print(a)\n",
    "del a[2]\n",
    "print(a)\n",
    "print('*'*50)\n",
    "\n",
    "# insert\n",
    "a.insert(2,546)\n",
    "print(a)\n",
    "print('*'*50)\n",
    "\n",
    "# pop\n",
    "del_last = a.pop()\n",
    "print(del_last)\n",
    "print(a)\n",
    "print('*'*50)\n",
    "\n",
    "#remove\n",
    "a.remove(546)\n",
    "print(a)\n",
    "print('*'*50)\n",
    "\n",
    "# clear\n",
    "print(id(a))\n",
    "a.clear()\n",
    "print(a)\n",
    "print(id(a))\n",
    "print('*'*50)\n",
    "\n",
    "#del\n",
    "del a  #清除a这个变量，直接把地址清除掉\n",
    "#print(a)\n",
    "#print(id(a))\n",
    "\n",
    "# extend\n",
    "a = [1,2,3,4]\n",
    "b =[5,6]\n",
    "a.extend(b)\n",
    "print(a)\n",
    "print('*'*50)\n",
    "\n",
    "#count\n",
    "print(a.count(15))"
   ]
  },
  {
   "cell_type": "markdown",
   "metadata": {},
   "source": [
    "# 列表类型的变量赋值\n",
    "- copy():将列表a的值直接赋值给列表b,两个列表指代不同的存储空间"
   ]
  },
  {
   "cell_type": "code",
   "execution_count": 122,
   "metadata": {},
   "outputs": [
    {
     "name": "stdout",
     "output_type": "stream",
     "text": [
      "a =  [1, 2, 3, 4, 5, 6]\n",
      "b =  [1, 2, 3, 777, 5, 6]\n",
      "a =  [1, 2, 3, 777, 5, 6]\n",
      "**************************************************\n",
      "b1 =  [1, 2, 888, 4]\n",
      "id(b1)= 1395925480328\n",
      "a1 =  [1, 2, 3, 4]\n",
      "id(a1)= 1395925500872\n"
     ]
    }
   ],
   "source": [
    "#浅拷贝\n",
    "\n",
    "a = [1,2,3,4,5,6]  #创建了一个list[1,2,3,4,5,6]和一个变量a，并将该变量指向[1,2,3,4,5,6]\n",
    "print('a = ',a)\n",
    "b = a #传地址操作,创建了一个变量b,并将b指向a所指向的地址\n",
    "b[3] = 777\n",
    "print('b = ',b)\n",
    "print('a = ',a)\n",
    "print('*'*50)\n",
    "\n",
    "# 为了解决List中的传址问题，保证改变b中的值不改变a的值，可以使用copy函数\n",
    "a1 = [1,2,3,4]\n",
    "b1 = a1.copy()\n",
    "b1[2] = 888\n",
    "print('b1 = ',b1)\n",
    "print('id(b1)=',id(b1))\n",
    "print('a1 = ',a1)\n",
    "print('id(a1)=',id(a1))"
   ]
  },
  {
   "cell_type": "code",
   "execution_count": 115,
   "metadata": {},
   "outputs": [
    {
     "name": "stdout",
     "output_type": "stream",
     "text": [
      "1\n",
      "1\n",
      "3\n",
      "1\n"
     ]
    }
   ],
   "source": [
    "a = 1\n",
    "print(a)\n",
    "b = a #传值\n",
    "print(b)\n",
    "b = 3\n",
    "print(b)\n",
    "print(a)"
   ]
  },
  {
   "cell_type": "code",
   "execution_count": 127,
   "metadata": {},
   "outputs": [
    {
     "name": "stdout",
     "output_type": "stream",
     "text": [
      "1395926752328\n",
      "1395922707464\n",
      "1395922708488\n",
      "1395922708488\n",
      "[1, 2, 3, [4, 5, 666]]\n",
      "[1, 2, 3, [4, 5, 666]]\n"
     ]
    }
   ],
   "source": [
    "# 深拷贝\n",
    "a = [1,2,3,[4,5,6]]\n",
    "b = a.copy()\n",
    "print(id(a)) #两个list的id不同，但里面的嵌套list的id相同，这是因为copy是一个浅拷贝函数，只能拷贝一层list,需要使用深拷贝\n",
    "print(id(b))\n",
    "print(id(a[3]))\n",
    "print(id(b[3]))\n",
    "b[3][2] = 666\n",
    "print(b)\n",
    "print(a)"
   ]
  }
 ],
 "metadata": {
  "kernelspec": {
   "display_name": "Python 3",
   "language": "python",
   "name": "python3"
  },
  "language_info": {
   "codemirror_mode": {
    "name": "ipython",
    "version": 3
   },
   "file_extension": ".py",
   "mimetype": "text/x-python",
   "name": "python",
   "nbconvert_exporter": "python",
   "pygments_lexer": "ipython3",
   "version": "3.7.1"
  }
 },
 "nbformat": 4,
 "nbformat_minor": 2
}
