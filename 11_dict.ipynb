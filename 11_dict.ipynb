{
 "cells": [
  {
   "cell_type": "markdown",
   "metadata": {},
   "source": [
    "# dict\n",
    "- 字典是一种组合数据，没有顺序，数据以键值对的形式存在"
   ]
  },
  {
   "cell_type": "code",
   "execution_count": 11,
   "metadata": {},
   "outputs": [
    {
     "name": "stdout",
     "output_type": "stream",
     "text": [
      "<class 'dict'>\n",
      "{}\n",
      "{'one': 1, 'two': 2, 'three': 3}\n",
      "{'one': 1, 'two': 2, 'three': 3}\n",
      "{'one': 1, 'two': 2, 'three': 3}\n",
      "{'one': 1, 'two': 2, 'three': 3}\n"
     ]
    }
   ],
   "source": [
    "# 字典的创建\n",
    "##方式1\n",
    "d = {}\n",
    "print(type(d))\n",
    "##方式2\n",
    "d = dict()\n",
    "print(d)\n",
    "\n",
    "# 创建有值的字典\n",
    "# 方式1\n",
    "d = {\"one\":1, \"two\":2, \"three\":3}\n",
    "print(d)\n",
    "#方式2\n",
    "d = dict({\"one\":1, \"two\":2, \"three\":3})\n",
    "print(d)\n",
    "#方式3\n",
    "d = dict(one=1, two=2, three=3)\n",
    "print(d)\n",
    "#方式4\n",
    "d = dict([(\"one\",1), (\"two\",2),(\"three\",3)])\n",
    "print(d)"
   ]
  },
  {
   "cell_type": "markdown",
   "metadata": {},
   "source": [
    "# 字典的特征\n",
    "- 字典是序列类型，但是是无序序列，所以不可以进行分片和索引\n",
    "- 字典中的数据都是由键值对组成\n",
    "    - key:必须是可哈希的值，例如string,int,float,tuple等，但是list,set,dict不行\n",
    "    - value：任何值"
   ]
  },
  {
   "cell_type": "markdown",
   "metadata": {},
   "source": [
    "# 字典的常见操作\n",
    "- 访问数据：dict[key]\n",
    "- 删除某个值：del dict[key]\n",
    "- 成员检测：in ,检测的是key\n",
    "- 字典的遍历：for循环"
   ]
  },
  {
   "cell_type": "code",
   "execution_count": 34,
   "metadata": {},
   "outputs": [
    {
     "name": "stdout",
     "output_type": "stream",
     "text": [
      "{'one': 1, 'two': 2, 'three': 3}\n",
      "1\n",
      "one 1\n",
      "two 2\n",
      "three 3\n",
      "1\n",
      "2\n",
      "3\n",
      "one --- 1\n",
      "two --- 2\n",
      "three --- 3\n"
     ]
    }
   ],
   "source": [
    "# 字典的遍历\n",
    "d = {\"one\":1, \"two\":2, \"three\":3}\n",
    "print(d)\n",
    "print(d[\"one\"]) #如果所写的键不存在就会报错，所以为了避免这样的问题就需要使用get(),后面有介绍\n",
    "for key in d: #直接按照key进行访问\n",
    "    print(key,d[key])\n",
    "    \n",
    "# 只访问字典的值\n",
    "for value in d.values(): #直接按照key进行访问\n",
    "    print(value)\n",
    "    \n",
    "# 注意下面的特殊用法\n",
    "for k,v in d.items(): #直接按照key进行访问\n",
    "    print(k,'---',v)"
   ]
  },
  {
   "cell_type": "markdown",
   "metadata": {},
   "source": [
    "# 字典生成式"
   ]
  },
  {
   "cell_type": "code",
   "execution_count": 24,
   "metadata": {},
   "outputs": [
    {
     "name": "stdout",
     "output_type": "stream",
     "text": [
      "{'one': 1, 'two': 2, 'three': 3}\n",
      "{'one': 1, 'two': 2, 'three': 3}\n",
      "{'two': 2}\n"
     ]
    }
   ],
   "source": [
    "d = {\"one\":1, \"two\":2, \"three\":3}\n",
    "print(d)\n",
    "#常规字典生成式\n",
    "dd = {k:v for k,v in d.items()}\n",
    "print(dd)\n",
    "\n",
    "# 加限制条件\n",
    "dd1 = {k:v for k,v in d.items() if v%2 == 0}\n",
    "print(dd1)"
   ]
  },
  {
   "cell_type": "markdown",
   "metadata": {},
   "source": [
    "# 字典的相关函数\n",
    "- len\n",
    "- max\n",
    "- min\n",
    "- str(字典）：返回字典的字符串格式\n",
    "- clear\n",
    "- items :返回字典的键值对组成的元组格式\n",
    "- keys:返回字典的键组成的一个结构\n",
    "- values：返回字典的值组成的一个结构\n",
    "- get:根据键值返回相应的value,可以设置默认值\n",
    "- fromkeys:使用指定的序列作为键，使用一个值作为所有key的值"
   ]
  },
  {
   "cell_type": "code",
   "execution_count": 27,
   "metadata": {},
   "outputs": [
    {
     "name": "stdout",
     "output_type": "stream",
     "text": [
      "{'one': 1, 'two': 2, 'three': 3}\n",
      "dict_items([('one', 1), ('two', 2), ('three', 3)])\n",
      "dict_keys(['one', 'two', 'three'])\n",
      "dict_values([1, 2, 3])\n"
     ]
    }
   ],
   "source": [
    "# items\n",
    "d = {\"one\":1, \"two\":2, \"three\":3}\n",
    "print(d)\n",
    "print(d.items())\n",
    "\n",
    "print(d.keys())\n",
    "\n",
    "print(d.values())"
   ]
  },
  {
   "cell_type": "code",
   "execution_count": 31,
   "metadata": {},
   "outputs": [
    {
     "name": "stdout",
     "output_type": "stream",
     "text": [
      "{'one': 1, 'two': 2, 'three': 3}\n",
      "1\n",
      "None\n",
      "100\n"
     ]
    }
   ],
   "source": [
    "#get\n",
    "d = {\"one\":1, \"two\":2, \"three\":3}\n",
    "print(d)\n",
    "print(d.get(\"one\"))\n",
    "\n",
    "# 若值不存在，则默认返回None,也可以自己设定\n",
    "print(d.get(\"four\"))\n",
    "print(d.get(\"four\",100))\n"
   ]
  },
  {
   "cell_type": "code",
   "execution_count": 37,
   "metadata": {},
   "outputs": [
    {
     "name": "stdout",
     "output_type": "stream",
     "text": [
      "{'one': 3, 'two': 3, 'three': 3}\n",
      "{'one': 'hahahah', 'two': 'hahahah', 'three': 'hahahah'}\n"
     ]
    }
   ],
   "source": [
    "# fromkeys\n",
    "l = [\"one\", \"two\", \"three\"]\n",
    "n = 3\n",
    "d = dict.fromkeys(l,n)\n",
    "print(d)\n",
    "\n",
    "d = dict.fromkeys(l,\"hahahah\")\n",
    "print(d)"
   ]
  }
 ],
 "metadata": {
  "kernelspec": {
   "display_name": "Python 3",
   "language": "python",
   "name": "python3"
  },
  "language_info": {
   "codemirror_mode": {
    "name": "ipython",
    "version": 3
   },
   "file_extension": ".py",
   "mimetype": "text/x-python",
   "name": "python",
   "nbconvert_exporter": "python",
   "pygments_lexer": "ipython3",
   "version": "3.7.1"
  }
 },
 "nbformat": 4,
 "nbformat_minor": 2
}
