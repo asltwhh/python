{
 "cells": [
  {
   "cell_type": "markdown",
   "metadata": {},
   "source": [
    "# 程序结构\n",
    "- 顺序\n",
    "- 循环\n",
    "- 分支"
   ]
  },
  {
   "cell_type": "markdown",
   "metadata": {},
   "source": [
    "# 分支结构\n",
    "- if 条件语句：\n",
    "       语句1\n",
    "  elif:\n",
    "       语句2\n",
    "  else:\n",
    "       语句3"
   ]
  },
  {
   "cell_type": "markdown",
   "metadata": {},
   "source": [
    "# input的作用：\n",
    "- 在屏幕上输出括号内的字符串\n",
    "- 接受用户输入的内容并返回到程序\n",
    "- input返回的类型一定是字符串\n"
   ]
  },
  {
   "cell_type": "code",
   "execution_count": 3,
   "metadata": {},
   "outputs": [
    {
     "name": "stdout",
     "output_type": "stream",
     "text": [
      "请输入你的性别：woman\n",
      "woman\n",
      "不方便\n"
     ]
    }
   ],
   "source": [
    "#接受用户输入的内容并返回到变量\n",
    "gender = input(\"请输入你的性别：\")\n",
    "print(gender)\n",
    "if gender=='man':\n",
    "    print(\"一起出去玩\")\n",
    "else:\n",
    "    print(\"不方便\")"
   ]
  },
  {
   "cell_type": "markdown",
   "metadata": {},
   "source": [
    "# 循环结构\n",
    "- for\n",
    "- while\n",
    "# for循环\n",
    "- 语法：\n",
    "    - for 变量 in 序列：\n",
    "        - 语句1\n",
    "        - 语句2\n",
    "        ...\n",
    "# for-else语句\n",
    "- for循环结束时，有时需要一些收尾工作，此时需要使用else语句\n",
    "- else语句是可选\n",
    "- 语法：\n",
    "    - for 变量 in 序列：\n",
    "        - 语句1\n",
    "        - 语句2\n",
    "        - ...\n",
    "    - else:（整个for循环执行完毕之后再执行）\n",
    "        - 语句1"
   ]
  },
  {
   "cell_type": "markdown",
   "metadata": {},
   "source": [
    "# break,continue,pass\n",
    "- break:无条件结束整个循环，简称循环猝死\n",
    "- continue:继续，结束本次循环，继续下一次循环\n",
    "- pass:仅仅是一个占位符"
   ]
  },
  {
   "cell_type": "code",
   "execution_count": 4,
   "metadata": {},
   "outputs": [
    {
     "name": "stdout",
     "output_type": "stream",
     "text": [
      "1\n",
      "3\n",
      "4\n",
      "6\n",
      "哈哈哈，找到啦\n"
     ]
    }
   ],
   "source": [
    "# break\n",
    "#确定一个数字序列中是否包含数字7，如果找到则打印7所在的位置，并且结束循环\n",
    "dig_list = [1,3,4,6,7,865,7]\n",
    "for n in dig_list:\n",
    "    if n == 7:\n",
    "        print(\"哈哈哈，找到啦\")\n",
    "        break\n",
    "    else:\n",
    "        print(n)"
   ]
  },
  {
   "cell_type": "code",
   "execution_count": 8,
   "metadata": {},
   "outputs": [
    {
     "name": "stdout",
     "output_type": "stream",
     "text": [
      "2\n",
      "4\n",
      "6\n",
      "8\n",
      "10\n"
     ]
    }
   ],
   "source": [
    "# continue\n",
    "# 在数字1-10中寻找所有的偶数，找到偶数后打印出来\n",
    "for n in range(1,11):\n",
    "    if n % 2 == 0:\n",
    "        print(n)\n",
    "    else:\n",
    "        continue"
   ]
  },
  {
   "cell_type": "code",
   "execution_count": 9,
   "metadata": {},
   "outputs": [
    {
     "name": "stdout",
     "output_type": "stream",
     "text": [
      "你还小\n"
     ]
    }
   ],
   "source": [
    "# pass\n",
    "age =19\n",
    "if age>19:\n",
    "    pass\n",
    "else:\n",
    "    print(\"你还小\")"
   ]
  },
  {
   "cell_type": "markdown",
   "metadata": {},
   "source": [
    "# range函数\n",
    "- 生成有序数列 \n",
    "- 生成数字队列可以定制\n",
    "- 语法：\n",
    "    - range(start:end:interval) ,interval可以为负\n",
    "    - range(start:end)"
   ]
  },
  {
   "cell_type": "code",
   "execution_count": 16,
   "metadata": {},
   "outputs": [
    {
     "data": {
      "text/plain": [
       "range(1, 11)"
      ]
     },
     "execution_count": 16,
     "metadata": {},
     "output_type": "execute_result"
    }
   ],
   "source": [
    "# 左包含右不包含\n",
    "range(1,11)"
   ]
  },
  {
   "cell_type": "markdown",
   "metadata": {},
   "source": [
    "# while循环\n",
    "- 一个循环语句\n",
    "- 条件成立就循环，不确定循环次数"
   ]
  }
 ],
 "metadata": {
  "kernelspec": {
   "display_name": "Python 3",
   "language": "python",
   "name": "python3"
  },
  "language_info": {
   "codemirror_mode": {
    "name": "ipython",
    "version": 3
   },
   "file_extension": ".py",
   "mimetype": "text/x-python",
   "name": "python",
   "nbconvert_exporter": "python",
   "pygments_lexer": "ipython3",
   "version": "3.7.1"
  }
 },
 "nbformat": 4,
 "nbformat_minor": 2
}
